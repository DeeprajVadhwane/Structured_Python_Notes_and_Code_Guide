{
  "nbformat": 4,
  "nbformat_minor": 0,
  "metadata": {
    "colab": {
      "provenance": []
    },
    "kernelspec": {
      "name": "python3",
      "display_name": "Python 3"
    },
    "language_info": {
      "name": "python"
    }
  },
  "cells": [
    {
      "cell_type": "markdown",
      "source": [
        "# Python"
      ],
      "metadata": {
        "id": "c46IFrae7lKv"
      }
    },
    {
      "cell_type": "markdown",
      "source": [
        "## What is Python?\n",
        "Python is a **popular** and **versatile** programming language that is easy to read and write, making it suitable for **beginners and experts**. It is a:\n",
        "\n",
        "- **High-level** language (abstracts complex details)\n",
        "- **Interpreted** language (no compilation required)\n",
        "- **Object-Oriented** language (supports OOP concepts)\n",
        "\n",
        "```python\n",
        "# Example: Simple Python Code\n",
        "print(\"Hello, Welcome to Python NoteBook\")\n",
        "```\n",
        "\n",
        "---\n",
        "\n",
        "## Why Should We Use Python for Data Science?\n",
        "Python is chosen for **data science** due to its:\n",
        "\n",
        "- **Simplicity** – Easy to write and read\n",
        "-  **Extensive Libraries** – NumPy, Pandas, Matplotlib, Scikit-learn, etc.\n",
        "- **Strong Support** – Machine learning and data visualization tools\n",
        "\n",
        "---\n",
        "\n",
        "## Features of Python\n",
        "\n",
        "- **Simple and Easy to Learn** – Beginner-friendly syntax.\n",
        "- **Open Source** – Free to use.\n",
        "- **Interpreted Language** – Executes code line-by-line.\n",
        "- **Platform Independent** – Works on Windows, Linux, and macOS.\n",
        "- **Dynamically Typed** – No need to declare data types.\n",
        "- **Rich Libraries** – Supports AI, ML, Data Science, and more.\n",
        "- **Function-Oriented and Object-Oriented** – Supports both paradigms.\n",
        "\n",
        "```python\n",
        "# Example: Dynamic Typing in Python\n",
        "a = 10      # Integer\n",
        "a = \"Hello\" # Now it's a string\n",
        "print(a)\n",
        "```\n",
        "\n",
        "---\n",
        "\n",
        "## What are Python Modules?\n",
        "Python **modules** are files containing **Python code** (functions, classes, variables) that allow **code reuse** and **organization**.\n",
        "\n",
        "📌 **Types of Modules:**\n",
        "1. **Built-in Modules** – Pre-installed (e.g., `math`, `os`)\n",
        "2. **User-defined Modules** – Custom-created files\n",
        "3. **External Modules** – Installed via pip (`numpy`, `pandas`)\n",
        "\n",
        "```python\n",
        "# Example: Using a Built-in Module\n",
        "import math\n",
        "\n",
        "print(math.sqrt(25))  # Output: 5.0\n",
        "```\n",
        "\n",
        "```python\n",
        "# Example: Creating a User-defined Module\n",
        "# Save this as mymodule.py\n",
        "\n",
        "def greet(name):\n",
        "    return f\"Hello, {name}!\"\n",
        "\n",
        "# Importing and using the module\n",
        "import mymodule\n",
        "print(mymodule.greet(\"Deepraj\"))\n",
        "```\n"
      ],
      "metadata": {
        "id": "hY-Q0uPyQ5cj"
      }
    },
    {
      "cell_type": "markdown",
      "source": [
        "## Comments in Python\n",
        "Comments in Python are used to add **explanations** and **increase code readability**. They are ignored by the Python interpreter.\n",
        "\n",
        "### 📌 Types of Comments:\n",
        "1. **Single-line comments** – Start with `#`.\n",
        "2. **Multi-line comments** – Enclosed within `''' '''` or `\"\"\" \"\"\"`.\n",
        "\n",
        "### 🛠 When to Use Comments?\n",
        "- To **explain** the purpose of code.\n",
        "- To **debug** by temporarily removing lines from execution.\n",
        "- To **increase readability** for future reference.\n",
        "\n",
        "### 🔹 Examples:"
      ],
      "metadata": {
        "id": "XGLvC-_pSMsM"
      }
    },
    {
      "cell_type": "code",
      "execution_count": null,
      "metadata": {
        "id": "zy1LjQFc7hfO",
        "colab": {
          "base_uri": "https://localhost:8080/"
        },
        "outputId": "5505ab86-1a97-4385-fd6b-92b82ce2a7ff"
      },
      "outputs": [
        {
          "output_type": "stream",
          "name": "stdout",
          "text": [
            "Hello, World!\n",
            "5\n"
          ]
        }
      ],
      "source": [
        "# This is a single-line comment\n",
        "print(\"Hello, World!\")  # This prints a message\n",
        "\n",
        "'''\n",
        "This is a multi-line comment.\n",
        "It can be used to explain complex logic.\n",
        "'''\n",
        "\n",
        "def add(a, b):\n",
        "    \"\"\"This function adds two numbers\"\"\"\n",
        "    return a + b\n",
        "\n",
        "print(add(2, 3))"
      ]
    },
    {
      "cell_type": "markdown",
      "source": [
        "## Identifier\n",
        "An **identifier** is the name used to **identify variables, functions, classes, modules, or any user-defined object** in Python.\n",
        "\n",
        "### - Rules of Identifiers:\n",
        "1. It **must start** with a letter (`a-z`, `A-Z`) or an underscore (`_`).\n",
        "2. It **cannot start** with a number (`0-9`).\n",
        "3. Python is **case-sensitive** (`variable` and `Variable` are different).\n",
        "4. It **cannot be a reserved keyword** (e.g., `if`, `while`, `for`).\n",
        "5. It **can contain letters, digits, and underscores** but cannot have ##spaces or special characters like `@`, `#`, `!`.\n",
        "6. Identifiers should be **meaningful** to improve code readability.\n",
        "7. Python does not allow the use of special symbols like `@, $, %` in identifiers.\n",
        "8. Identifiers can be of **any length**, but shorter and descriptive names are recommended.\n"
      ],
      "metadata": {
        "id": "oj5jD3p8TMdM"
      }
    },
    {
      "cell_type": "markdown",
      "source": [
        "### 🔹 Examples:"
      ],
      "metadata": {
        "id": "X2iCCeYQUw-4"
      }
    },
    {
      "cell_type": "code",
      "source": [
        "# Valid identifiers\n",
        "name = \"Deepraj\"  # Variable\n",
        "_age = 25         # Variable with underscore\n",
        "MyClass = \"Python\"\n",
        "\n",
        "def my_function():\n",
        "    print(\"This is a function identifier\")\n",
        "\n",
        "# More valid identifiers\n",
        "user_name = \"Alice\"\n",
        "userAge = 30\n",
        "PI = 3.14159\n",
        "_class = \"Data Science\"\n",
        "student1 = \"John\""
      ],
      "metadata": {
        "id": "t5So517RSo49"
      },
      "execution_count": null,
      "outputs": []
    },
    {
      "cell_type": "code",
      "source": [
        "# Invalid identifiers (will cause errors)\n",
        "# 1name = \"Invalid\"  # Cannot start with a number\n",
        "# if = \"keyword\"      # Cannot use reserved keywords\n",
        "# my-variable = \"wrong\"  # Hyphens are not allowed"
      ],
      "metadata": {
        "id": "b7rLEKwOr4hz"
      },
      "execution_count": null,
      "outputs": []
    },
    {
      "cell_type": "markdown",
      "source": [
        "#### Invalid identifiers (will cause errors)"
      ],
      "metadata": {
        "id": "2Kw6ZwYYVIhd"
      }
    },
    {
      "cell_type": "markdown",
      "source": [
        "## Operators in Python\n",
        "\n",
        "Operators are **symbols** or **special characters** that allow you to perform **operations** on variables, values, or expressions. Python supports different types of operators to perform mathematical, logical, and other operations efficiently.\n",
        "\n",
        "---\n",
        "\n",
        "## Types of Operators in Python\n",
        "\n",
        "Python provides the following types of operators:\n",
        "\n",
        "1. **Arithmetic Operators**\n",
        "2. **Logical Operators**\n",
        "3. **Bitwise Operators**\n",
        "4. **Assignment Operators**\n",
        "5. **Relational (Comparison) Operators**\n",
        "6. **Membership Operators**\n",
        "7. **Identity Operators**\n",
        "\n",
        "Let's explore each type in detail with examples.\n",
        "\n",
        "---\n",
        "\n",
        "## 1️⃣ Arithmetic Operators\n",
        "Arithmetic operators are used to perform basic mathematical operations like addition, subtraction, multiplication, etc.\n",
        "\n",
        "| Operator | Description | Example |\n",
        "|----------|-------------|---------|\n",
        "| `+` | Addition | `10 + 5 = 15` |\n",
        "| `-` | Subtraction | `10 - 5 = 5` |\n",
        "| `*` | Multiplication | `10 * 5 = 50` |\n",
        "| `/` | Division (Floating) | `10 / 3 = 3.33` |\n",
        "| `//` | Floor Division | `10 // 3 = 3` |\n",
        "| `%` | Modulus (Remainder) | `10 % 3 = 1` |\n",
        "| `**` | Exponentiation | `2 ** 3 = 8` |"
      ],
      "metadata": {
        "id": "UV8kvIbaWKmL"
      }
    },
    {
      "cell_type": "code",
      "source": [
        "# Examples of Arithmetic Operators\n",
        "a = 10\n",
        "b = 3\n",
        "print(\"Addition:\", a + b)\n",
        "print(\"Subtraction:\", a - b)\n",
        "print(\"Multiplication:\", a * b)\n",
        "print(\"Division:\", a / b)\n",
        "print(\"Floor Division:\", a // b)\n",
        "print(\"Modulus:\", a % b)\n",
        "print(\"Exponentiation:\", a ** b)"
      ],
      "metadata": {
        "colab": {
          "base_uri": "https://localhost:8080/"
        },
        "id": "CZ9eXjnAWKTC",
        "outputId": "2ba52a5d-bd48-409b-b57f-76314d0bdf2e"
      },
      "execution_count": null,
      "outputs": [
        {
          "output_type": "stream",
          "name": "stdout",
          "text": [
            "Addition: 13\n",
            "Subtraction: 7\n",
            "Multiplication: 30\n",
            "Division: 3.3333333333333335\n",
            "Floor Division: 3\n",
            "Modulus: 1\n",
            "Exponentiation: 1000\n"
          ]
        }
      ]
    },
    {
      "cell_type": "markdown",
      "source": [
        "## 2️⃣ Logical Operators\n",
        "Logical operators are used to combine multiple conditions and return **True** or **False**.\n",
        "\n",
        "| Operator | Description | Example |\n",
        "|----------|-------------|---------|\n",
        "| `and` | Returns `True` if both conditions are `True` | `(5 > 3) and (10 > 2) → True` |\n",
        "| `or` | Returns `True` if at least one condition is `True` | `(5 > 3) or (10 < 2) → True` |\n",
        "| `not` | Reverses the condition's result | `not(5 > 3) → False` |\n"
      ],
      "metadata": {
        "id": "GNvXZo4VWhPM"
      }
    },
    {
      "cell_type": "code",
      "source": [
        "x = True\n",
        "y = False\n",
        "print(\"AND Operator:\", x and y)\n",
        "print(\"OR Operator:\", x or y)\n",
        "print(\"NOT Operator:\", not x)"
      ],
      "metadata": {
        "colab": {
          "base_uri": "https://localhost:8080/"
        },
        "id": "KxzQZMDPWogI",
        "outputId": "3153ab84-35f4-4484-e4ab-7d7d8ca17ea6"
      },
      "execution_count": null,
      "outputs": [
        {
          "output_type": "stream",
          "name": "stdout",
          "text": [
            "AND Operator: False\n",
            "OR Operator: True\n",
            "NOT Operator: False\n"
          ]
        }
      ]
    },
    {
      "cell_type": "markdown",
      "source": [
        "## 3️⃣ Bitwise Operators\n",
        "Bitwise operators perform operations on binary numbers (bits).\n",
        "\n",
        "| Operator | Description | Example (Binary) |\n",
        "|----------|-------------|------------------|\n",
        "| `&` | AND | `5 & 3` → `101 & 011` = `001 (1)` |\n",
        "| `|` | OR | `5 | 3` → `101 | 011` = `111 (7)` |\n",
        "| `^` | XOR | `5 ^ 3` → `101 ^ 011` = `110 (6)` |\n",
        "| `~` | NOT (bitwise complement) | `~5` → `-(5+1) = -6` |\n",
        "| `<<` | Left Shift | `5 << 1` → `101 << 1` = `1010 (10)` |\n",
        "| `>>` | Right Shift | `5 >> 1` → `101 >> 1` = `10 (2)` |\n",
        "\n"
      ],
      "metadata": {
        "id": "k5iE4r-lWAbl"
      }
    },
    {
      "cell_type": "code",
      "source": [
        "a = 5  # 101 in binary\n",
        "b = 3  # 011 in binary\n",
        "print(\"Bitwise AND:\", a & b)\n",
        "print(\"Bitwise OR:\", a | b)\n",
        "print(\"Bitwise XOR:\", a ^ b)\n",
        "print(\"Bitwise NOT:\", ~a)\n",
        "print(\"Left Shift:\", a << 1)\n",
        "print(\"Right Shift:\", a >> 1)\n"
      ],
      "metadata": {
        "colab": {
          "base_uri": "https://localhost:8080/"
        },
        "id": "DuThIYXMVKXm",
        "outputId": "847eaeb9-207c-494e-a2a8-146bd67cbc6c"
      },
      "execution_count": null,
      "outputs": [
        {
          "output_type": "stream",
          "name": "stdout",
          "text": [
            "Bitwise AND: 1\n",
            "Bitwise OR: 7\n",
            "Bitwise XOR: 6\n",
            "Bitwise NOT: -6\n",
            "Left Shift: 10\n",
            "Right Shift: 2\n"
          ]
        }
      ]
    },
    {
      "cell_type": "markdown",
      "source": [
        "\n",
        "\n",
        "## 4️⃣ Assignment Operators\n",
        "Assignment operators assign values to variables and perform shorthand operations.\n",
        "\n",
        "| Operator | Example | Equivalent To |\n",
        "|----------|---------|---------------|\n",
        "| `=` | `a = 10` | `a = 10` |\n",
        "| `+=` | `a += 5` | `a = a + 5` |\n",
        "| `-=` | `a -= 5` | `a = a - 5` |\n",
        "| `*=` | `a *= 5` | `a = a * 5` |\n",
        "| `/=` | `a /= 5` | `a = a / 5` |\n",
        "\n"
      ],
      "metadata": {
        "id": "hqTFd6Q8W6K0"
      }
    },
    {
      "cell_type": "code",
      "source": [
        "a = 10  # Assigning initial value\n",
        "print(f'Initial value of a: {a}')\n",
        "\n",
        "# Using += operator\n",
        "a += 5  # Equivalent to a = a + 5\n",
        "print(f'After a += 5, a: {a}')\n",
        "\n",
        "# Using -= operator\n",
        "a -= 3  # Equivalent to a = a - 3\n",
        "print(f'After a -= 3, a: {a}')\n",
        "\n",
        "# Using *= operator\n",
        "a *= 2  # Equivalent to a = a * 2\n",
        "print(f'After a *= 2, a: {a}')\n",
        "\n",
        "# Using /= operator\n",
        "a /= 4  # Equivalent to a = a / 4\n",
        "print(f'After a /= 4, a: {a}')\n",
        "\n",
        "# Using //= operator (floor division)\n",
        "a //= 2  # Equivalent to a = a // 2\n",
        "print(f'After a //= 2, a: {a}')\n",
        "\n",
        "# Using %= operator (modulus)\n",
        "a %= 3  # Equivalent to a = a % 3\n",
        "print(f'After a %= 3, a: {a}')\n",
        "\n",
        "# Using **= operator (exponentiation)\n",
        "a = 2  # Reset a\n",
        "a **= 3  # Equivalent to a = a ** 3\n",
        "print(f'After a **= 3, a: {a}')"
      ],
      "metadata": {
        "id": "rVSsA9JBW0PF",
        "colab": {
          "base_uri": "https://localhost:8080/"
        },
        "outputId": "6f2a14bb-e7a2-4745-f7ca-8692c08d9a34"
      },
      "execution_count": null,
      "outputs": [
        {
          "output_type": "stream",
          "name": "stdout",
          "text": [
            "Initial value of a: 10\n",
            "After a += 5, a: 15\n",
            "After a -= 3, a: 12\n",
            "After a *= 2, a: 24\n",
            "After a /= 4, a: 6.0\n",
            "After a //= 2, a: 3.0\n",
            "After a %= 3, a: 0.0\n",
            "After a **= 3, a: 8\n"
          ]
        }
      ]
    },
    {
      "cell_type": "markdown",
      "source": [
        "---\n",
        "\n",
        "## 5️⃣ Relational (Comparison) Operators\n",
        "Relational operators compare two values and return **True** or **False**.\n",
        "\n",
        "| Operator | Description | Example |\n",
        "|----------|-------------|---------|\n",
        "| `==` | Equal to | `5 == 5 → True` |\n",
        "| `!=` | Not equal to | `5 != 3 → True` |\n",
        "| `>` | Greater than | `5 > 3 → True` |\n",
        "| `<` | Less than | `5 < 3 → False` |\n",
        "\n",
        "\n",
        "\n"
      ],
      "metadata": {
        "id": "8W3A_U0YW-Yw"
      }
    },
    {
      "cell_type": "code",
      "source": [
        "a = 5\n",
        "b = 3\n",
        "print(\"a:\",a)\n",
        "print(\"b:\",b)\n",
        "print(f'Equal to (a == b): {a == b}')\n",
        "print(f'Not equal to (a != b): {a != b}')\n",
        "print(f'Greater than (a > b): {a > b}')"
      ],
      "metadata": {
        "colab": {
          "base_uri": "https://localhost:8080/"
        },
        "id": "FQCoAmxAfx3K",
        "outputId": "e7663567-5dfc-43c7-8a1e-5f42423f0f26"
      },
      "execution_count": null,
      "outputs": [
        {
          "output_type": "stream",
          "name": "stdout",
          "text": [
            "a: 5\n",
            "b: 3\n",
            "Equal to (a == b): False\n",
            "Not equal to (a != b): True\n",
            "Greater than (a > b): True\n"
          ]
        }
      ]
    },
    {
      "cell_type": "markdown",
      "source": [
        "---\n",
        "\n",
        "## 6️⃣ Membership Operators\n",
        "Membership operators check if a value is in a sequence (like a list, tuple, or string).\n",
        "\n",
        "| Operator | Description | Example |\n",
        "|----------|-------------|---------|\n",
        "| `in` | Returns `True` if the value exists in the sequence | `'a' in 'apple' → True` |\n",
        "| `not in` | Returns `True` if the value does not exist | `'z' in 'apple' → False` |\n",
        "\n"
      ],
      "metadata": {
        "id": "PWxMVgklXBo3"
      }
    },
    {
      "cell_type": "code",
      "source": [
        "lst= [1, 2, 3, 4, 5]\n",
        "print(3 in lst)\n",
        "print(10 not in lst)"
      ],
      "metadata": {
        "colab": {
          "base_uri": "https://localhost:8080/"
        },
        "id": "LgJuWboLXKDT",
        "outputId": "c2e55031-b894-46a5-8847-3b0094a01cb5"
      },
      "execution_count": null,
      "outputs": [
        {
          "output_type": "stream",
          "name": "stdout",
          "text": [
            "True\n",
            "True\n"
          ]
        }
      ]
    },
    {
      "cell_type": "markdown",
      "source": [
        "## Basic Functions in Python\n",
        "\n",
        "Python provides several built-in functions to perform common operations efficiently. Here, we will cover important functions in depth with explanations and multiple examples."
      ],
      "metadata": {
        "id": "FI8M8MGmhGEB"
      }
    },
    {
      "cell_type": "markdown",
      "source": [
        "### 1️⃣ `print()` - Display Output\n",
        "The `print()` function is used to display output on the console.\n",
        "\n"
      ],
      "metadata": {
        "id": "9Riu_rrWhCjA"
      }
    },
    {
      "cell_type": "code",
      "source": [
        "print(\"Hello, World!\")\n",
        "name = \"Python\"\n",
        "print(\"Welcome,\", name)"
      ],
      "metadata": {
        "colab": {
          "base_uri": "https://localhost:8080/"
        },
        "id": "FtKqPuqWt8_l",
        "outputId": "6a13066c-0955-4940-f847-c3c0394fd081"
      },
      "execution_count": null,
      "outputs": [
        {
          "output_type": "stream",
          "name": "stdout",
          "text": [
            "Hello, World!\n",
            "Welcome, Python\n"
          ]
        }
      ]
    },
    {
      "cell_type": "code",
      "source": [
        "name = 'Python'\n",
        "print(f\"Welcome {name}\")"
      ],
      "metadata": {
        "colab": {
          "base_uri": "https://localhost:8080/"
        },
        "id": "E7Sw8C1VPMz7",
        "outputId": "40596a45-7340-4d6b-83da-3d8d98545a4d"
      },
      "execution_count": null,
      "outputs": [
        {
          "output_type": "stream",
          "name": "stdout",
          "text": [
            "Welcome Python\n"
          ]
        }
      ]
    },
    {
      "cell_type": "markdown",
      "source": [
        "🔹 **Multiple Arguments:** You can pass multiple arguments separated by a comma."
      ],
      "metadata": {
        "id": "cRW-Rbz_t_Uj"
      }
    },
    {
      "cell_type": "code",
      "source": [
        "print(\"Python\", \"is\", \"awesome!\")"
      ],
      "metadata": {
        "colab": {
          "base_uri": "https://localhost:8080/"
        },
        "id": "uhhY3bjrt83S",
        "outputId": "358511b4-831c-467b-8e07-e0afdc1703c6"
      },
      "execution_count": null,
      "outputs": [
        {
          "output_type": "stream",
          "name": "stdout",
          "text": [
            "Python is awesome!\n"
          ]
        }
      ]
    },
    {
      "cell_type": "code",
      "source": [
        "print(\"python\",\"is\",\"Best\",\"language\")"
      ],
      "metadata": {
        "colab": {
          "base_uri": "https://localhost:8080/"
        },
        "id": "B-Dc-2n7Po6M",
        "outputId": "debd0e1b-0ebb-4d32-9bec-8fd0f1b043c3"
      },
      "execution_count": null,
      "outputs": [
        {
          "output_type": "stream",
          "name": "stdout",
          "text": [
            "python is Best language\n"
          ]
        }
      ]
    },
    {
      "cell_type": "markdown",
      "source": [
        "🔹 **Custom Separator:** Change the default space separator.\n"
      ],
      "metadata": {
        "id": "rvZwD34nuJhk"
      }
    },
    {
      "cell_type": "code",
      "source": [
        "print(\"Python\", \"Java\", \"C++\", sep=\" | \")\n"
      ],
      "metadata": {
        "colab": {
          "base_uri": "https://localhost:8080/"
        },
        "id": "aGAMajwTuMjV",
        "outputId": "e14bac0c-9f22-41c7-a6e3-1a4a81d5cf25"
      },
      "execution_count": null,
      "outputs": [
        {
          "output_type": "stream",
          "name": "stdout",
          "text": [
            "Python | Java | C++\n"
          ]
        }
      ]
    },
    {
      "cell_type": "markdown",
      "source": [
        "🔹 **End Parameter:** Modify the default newline behavior.\n"
      ],
      "metadata": {
        "id": "zm5GmmBYuULQ"
      }
    },
    {
      "cell_type": "code",
      "source": [
        "print(\"Hello\", end=\" \")\n",
        "print(\"World!\")"
      ],
      "metadata": {
        "colab": {
          "base_uri": "https://localhost:8080/"
        },
        "id": "g8K6lNtfuWSq",
        "outputId": "c633e4ac-54d7-4198-aadc-3082b33c2524"
      },
      "execution_count": null,
      "outputs": [
        {
          "output_type": "stream",
          "name": "stdout",
          "text": [
            "Hello World!\n"
          ]
        }
      ]
    },
    {
      "cell_type": "markdown",
      "source": [
        "### 2️⃣ `input()` - Taking User Input\n",
        "\n",
        "The `input()` function allows the user to provide input via the keyboard.\n",
        "\n",
        "\n",
        "\n"
      ],
      "metadata": {
        "id": "tASlyYyVudXQ"
      }
    },
    {
      "cell_type": "code",
      "source": [
        "# Example: Taking user input\n",
        "user_name = input(\"Enter your name: \")\n",
        "print(\"Hello,\", user_name)"
      ],
      "metadata": {
        "id": "pfWGR6w7vNo7",
        "colab": {
          "base_uri": "https://localhost:8080/"
        },
        "outputId": "e4d5f5e3-b2b3-4701-cf9b-e37ff31c89d7"
      },
      "execution_count": null,
      "outputs": [
        {
          "output_type": "stream",
          "name": "stdout",
          "text": [
            "Enter your name: Deepraj\n",
            "Hello, Deepraj\n"
          ]
        }
      ]
    },
    {
      "cell_type": "markdown",
      "source": [
        "*🔹* **Input as Integer:** Convert the input to a specific data type.\n"
      ],
      "metadata": {
        "id": "QwW85PrYvad6"
      }
    },
    {
      "cell_type": "code",
      "source": [
        "age = int(input(\"Enter your age: \"))\n",
        "print(\"Your age is:\", age)"
      ],
      "metadata": {
        "id": "mvOkdlGkvd5J",
        "colab": {
          "base_uri": "https://localhost:8080/"
        },
        "outputId": "9a90b1ca-ccf5-4b9a-91a1-50b7914ff097"
      },
      "execution_count": null,
      "outputs": [
        {
          "output_type": "stream",
          "name": "stdout",
          "text": [
            "Enter your age: 24\n",
            "Your age is: 24\n"
          ]
        }
      ]
    },
    {
      "cell_type": "markdown",
      "source": [
        "*🔹* **Input as float:** Convert the input to a specific data type.\n"
      ],
      "metadata": {
        "id": "GxIblbMwP27P"
      }
    },
    {
      "cell_type": "code",
      "source": [
        "pi_value = float(input(\"Enter the value of pi: \"))\n",
        "print(\"The value of pi is:\", pi_value)"
      ],
      "metadata": {
        "id": "I7B6qvJnPzZw",
        "colab": {
          "base_uri": "https://localhost:8080/",
          "height": 180
        },
        "outputId": "d1403a99-38ad-410b-80a7-cbcf09ddd832"
      },
      "execution_count": null,
      "outputs": [
        {
          "name": "stdout",
          "output_type": "stream",
          "text": [
            "Enter the value of pi: 10 20 30\n"
          ]
        },
        {
          "output_type": "error",
          "ename": "ValueError",
          "evalue": "could not convert string to float: '10 20 30'",
          "traceback": [
            "\u001b[0;31m---------------------------------------------------------------------------\u001b[0m",
            "\u001b[0;31mValueError\u001b[0m                                Traceback (most recent call last)",
            "\u001b[0;32m<ipython-input-18-8906eeb38fe4>\u001b[0m in \u001b[0;36m<cell line: 0>\u001b[0;34m()\u001b[0m\n\u001b[0;32m----> 1\u001b[0;31m \u001b[0mpi_value\u001b[0m \u001b[0;34m=\u001b[0m \u001b[0mfloat\u001b[0m\u001b[0;34m(\u001b[0m\u001b[0minput\u001b[0m\u001b[0;34m(\u001b[0m\u001b[0;34m\"Enter the value of pi: \"\u001b[0m\u001b[0;34m)\u001b[0m\u001b[0;34m)\u001b[0m\u001b[0;34m\u001b[0m\u001b[0;34m\u001b[0m\u001b[0m\n\u001b[0m\u001b[1;32m      2\u001b[0m \u001b[0mprint\u001b[0m\u001b[0;34m(\u001b[0m\u001b[0;34m\"The value of pi is:\"\u001b[0m\u001b[0;34m,\u001b[0m \u001b[0mpi_value\u001b[0m\u001b[0;34m)\u001b[0m\u001b[0;34m\u001b[0m\u001b[0;34m\u001b[0m\u001b[0m\n",
            "\u001b[0;31mValueError\u001b[0m: could not convert string to float: '10 20 30'"
          ]
        }
      ]
    },
    {
      "cell_type": "markdown",
      "source": [
        "🔹 **Handling Multiple Inputs:**"
      ],
      "metadata": {
        "id": "Dz70QG55viBr"
      }
    },
    {
      "cell_type": "code",
      "source": [
        "x, y = input(\"Enter two numbers: \").split()\n",
        "print(\"First number:\", x)\n",
        "print(\"Second number:\", y)"
      ],
      "metadata": {
        "id": "ZgB8jEM5vk5R"
      },
      "execution_count": null,
      "outputs": []
    },
    {
      "cell_type": "code",
      "source": [
        "a,b,c,d = input(\"Enter your Numbers:\").split()\n",
        "print(\"First number:\", a)\n",
        "print(\"Second number:\", b)\n",
        "print(\"Third number:\", c)\n",
        "print(\"Fourth number:\", d)"
      ],
      "metadata": {
        "id": "1yGd1Yj-QJIg"
      },
      "execution_count": null,
      "outputs": []
    },
    {
      "cell_type": "markdown",
      "source": [
        "### 3️⃣ `len()` - Get Length of an Object\n",
        "The `len()` function returns the number of items in an object like a string, list, tuple, or dictionary.\n"
      ],
      "metadata": {
        "id": "TmF8C-pKvocj"
      }
    },
    {
      "cell_type": "code",
      "source": [
        "word = \"Python\"\n",
        "print(\"String Length:\", len(word))\n"
      ],
      "metadata": {
        "id": "GcrzUbREv0_z"
      },
      "execution_count": null,
      "outputs": []
    },
    {
      "cell_type": "markdown",
      "source": [
        "🔹 **Length of a Dictionary (Number of Key-Value Pairs)**\n"
      ],
      "metadata": {
        "id": "Er0Lwm0qv4eD"
      }
    },
    {
      "cell_type": "code",
      "source": [
        "data = {\"name\": \"Akshay\", \"age\": 25, \"city\": \"Mumbai\"}\n",
        "print(\"Dictionary Length:\", len(data))"
      ],
      "metadata": {
        "id": "GoPHiquIv7Dh"
      },
      "execution_count": null,
      "outputs": []
    },
    {
      "cell_type": "markdown",
      "source": [
        "\n",
        "### 4️⃣ `id()` - Get Memory Address\n",
        "The `id()` function returns the unique memory address of an object."
      ],
      "metadata": {
        "id": "B4__NWSUv_XA"
      }
    },
    {
      "cell_type": "code",
      "source": [
        "# Example: Checking memory address\n",
        "a = 42\n",
        "print(\"Memory Address of a:\", id(a))\n",
        "b = 42\n",
        "print(\"Memory Address of b:\", id(b))"
      ],
      "metadata": {
        "id": "0cSD5JYHwDHA"
      },
      "execution_count": null,
      "outputs": []
    },
    {
      "cell_type": "code",
      "source": [
        "a = 10\n",
        "b=a\n",
        "print(\"Memory Address of a:\", id(a))\n",
        "print(\"Memory Address of b:\", id(b))"
      ],
      "metadata": {
        "id": "XZGr4KHkTQyP"
      },
      "execution_count": null,
      "outputs": []
    },
    {
      "cell_type": "markdown",
      "source": [
        "- In Python, small integers (like 100) are **interned**, meaning they are stored in a single memory location to save space. So, when you assign a = **100** and b = **100**, both variables refer to the **same memory address**. This is why id(a) and id(b) return the same address."
      ],
      "metadata": {
        "id": "Kkxe2dnMR01h"
      }
    },
    {
      "cell_type": "markdown",
      "source": [
        "🔹 **Different Memory Address for Different Objects**\n"
      ],
      "metadata": {
        "id": "pmK0DrMvwHci"
      }
    },
    {
      "cell_type": "code",
      "source": [
        "a = 100\n",
        "b=110\n",
        "print(\"Memory Address of a:\", id(a))\n",
        "print(\"Memory Address of b:\", id(b))"
      ],
      "metadata": {
        "id": "eOO325DtRTXV"
      },
      "execution_count": null,
      "outputs": []
    },
    {
      "cell_type": "code",
      "source": [
        "x = [1, 2, 3]\n",
        "y = [1, 2, 3]\n",
        "print(id(x), id(y))"
      ],
      "metadata": {
        "id": "-tbD_wV_wJcU"
      },
      "execution_count": null,
      "outputs": []
    },
    {
      "cell_type": "code",
      "source": [
        "x == y"
      ],
      "metadata": {
        "id": "bWdOOwCbTZ_5"
      },
      "execution_count": null,
      "outputs": []
    },
    {
      "cell_type": "markdown",
      "source": [
        "### 5️⃣ `help()` - Display Documentation\n",
        "The `help()` function provides documentation and usage information about Python objects, functions, or modules.\n"
      ],
      "metadata": {
        "id": "aQJTqyQVwObu"
      }
    },
    {
      "cell_type": "code",
      "source": [
        "# Example: Using help()\n",
        "help(print)\n",
        "help(len)"
      ],
      "metadata": {
        "id": "mE3xZ9SPwP8D"
      },
      "execution_count": null,
      "outputs": []
    },
    {
      "cell_type": "markdown",
      "source": [
        "🔹 **Using help() on Modules**\n"
      ],
      "metadata": {
        "id": "HPcqi6-zwS9x"
      }
    },
    {
      "cell_type": "code",
      "source": [
        "import math\n",
        "help(math)"
      ],
      "metadata": {
        "id": "5u0wKGuewXz9"
      },
      "execution_count": null,
      "outputs": []
    },
    {
      "cell_type": "markdown",
      "source": [
        "### 6️⃣ `type()` - Get Data Type\n",
        "The `type()` function returns the data type of a variable or value."
      ],
      "metadata": {
        "id": "GlSYMrrewcZG"
      }
    },
    {
      "cell_type": "code",
      "source": [
        "# Example: Checking variable type\n",
        "x = 10\n",
        "print(type(x))\n",
        "\n",
        "y = 3.14\n",
        "print(type(y))\n",
        "\n",
        "z = \"Python\"\n",
        "print(type(z))"
      ],
      "metadata": {
        "id": "KwpjAXkGwf3g"
      },
      "execution_count": null,
      "outputs": []
    },
    {
      "cell_type": "markdown",
      "source": [
        "## Data Types in Python\n",
        "\n",
        "Data types in Python represent the **type or category** of data stored in variables. Python is a **dynamically typed** language, meaning you don't need to explicitly declare the data type when defining a variable; the interpreter determines it automatically based on the assigned value.\n",
        "\n",
        "---\n",
        "## What are the Different types **Data Types** Available in Python ?\n",
        "![Screenshot 2025-03-08 225105.png](data:image/png;base64,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)"
      ],
      "metadata": {
        "id": "fg_hdh96xSwg"
      }
    },
    {
      "cell_type": "markdown",
      "source": [
        "\n",
        "## Basic Data\n",
        "\n",
        "\n",
        "## 1. Numeric Data Types\n",
        "\n",
        "#### Numeric data types represent numbers and include:\n",
        "\n",
        "\n",
        "| Data Type | Description | Example |\n",
        "|-----------|-------------|---------|\n",
        "| `int` | Integer numbers | `x = 10` |\n",
        "| `float` | Decimal (floating-point) numbers | `y = 3.14` |\n",
        "| `complex` | Complex numbers (real + imaginary) | `z = 2 + 3j` |\n",
        "\n",
        "## 1.1 **int Data Type in python**\n",
        "\n",
        "|`int` --> Integer numbers |\n"
      ],
      "metadata": {
        "id": "kRoG3fidGXkG"
      }
    },
    {
      "cell_type": "code",
      "source": [
        "# Integer example\n",
        "num1 = 100\n",
        "print(\"num1:\",num1)\n",
        "print(type(num1))"
      ],
      "metadata": {
        "id": "TblRFW79HHF8"
      },
      "execution_count": null,
      "outputs": []
    },
    {
      "cell_type": "code",
      "source": [
        "num2 = 0\n",
        "print(\"num2:\",num2)\n",
        "print(type(num2))"
      ],
      "metadata": {
        "id": "DJwHNz82HUVR"
      },
      "execution_count": null,
      "outputs": []
    },
    {
      "cell_type": "code",
      "source": [
        "num3 = -1\n",
        "print(\"num3:\",num3)\n",
        "print(type(num3))"
      ],
      "metadata": {
        "id": "a8LppSeWJEbH"
      },
      "execution_count": null,
      "outputs": []
    },
    {
      "cell_type": "code",
      "source": [
        "# Float example\n",
        "num2 = 10.5\n",
        "print(type(num2))"
      ],
      "metadata": {
        "id": "N-SVJy10HRIL"
      },
      "execution_count": null,
      "outputs": []
    },
    {
      "cell_type": "markdown",
      "source": [
        "## 1.2 **Float Data Type in Python**\n",
        "In Python, the float data type is used to represent decimal (floating-point) numbers. It allows storing numbers with a fractional component.\n",
        "\n",
        "### Key Characteristics of Float:\n",
        "- It represents real numbers with a **decimal point**.\n",
        "- Can store positive and negative decimal values.\n",
        "- Supports scientific notation (e.g., 1.5e3 for 1500.0).\n",
        "- Used in mathematical calculations that require precision."
      ],
      "metadata": {
        "id": "kURRUHkZJfp8"
      }
    },
    {
      "cell_type": "code",
      "source": [
        "# Defining float values\n",
        "num1 = 10.5\n",
        "num2 = -3.14\n",
        "num3 = 2.5e2\n",
        "\n",
        "# Printing values and types\n",
        "print(\"num1:\",num1)\n",
        "print(num1, type(num1))\n",
        "print(\"num2:\",num2)\n",
        "print(num2, type(num2))\n",
        "print(num3, type(num3))\n",
        "print(num3, type(num3))\n"
      ],
      "metadata": {
        "id": "8SxBnxjQHREt"
      },
      "execution_count": null,
      "outputs": []
    },
    {
      "cell_type": "markdown",
      "source": [
        "# Operations on float"
      ],
      "metadata": {
        "id": "lBkcsSRNKJkn"
      }
    },
    {
      "cell_type": "code",
      "source": [
        "a = 5.5\n",
        "b = 2.0\n",
        "\n",
        "# Arithmetic operations\n",
        "print(\"Adition:\",a + b)\n",
        "print(\"Substraction:\",a - b)\n",
        "print(\"Multiplication:\",a * b)\n",
        "print(\"Division:\",a / b)\n",
        "print(\"Square:\",a ** b)"
      ],
      "metadata": {
        "id": "X3uRu6JPKIkS"
      },
      "execution_count": null,
      "outputs": []
    },
    {
      "cell_type": "markdown",
      "source": [
        "## 1.3 **Complex Data Types**\n"
      ],
      "metadata": {
        "id": "A_7ULFtmYacB"
      }
    },
    {
      "cell_type": "code",
      "source": [
        "# Complex number example\n",
        "num1 = 2 + 3j\n",
        "num2 = 4 - 5j\n",
        "print(\"Num1:\",num1)\n",
        "print(\"Num2:\",num2)"
      ],
      "metadata": {
        "id": "cPNIAmGPY5zT"
      },
      "execution_count": null,
      "outputs": []
    },
    {
      "cell_type": "code",
      "source": [
        "print(\"Displaying the type of complex numbers\")\n",
        "print(type(num1))\n",
        "print(type(num2))"
      ],
      "metadata": {
        "id": "ymNgmuKnY5v0"
      },
      "execution_count": null,
      "outputs": []
    },
    {
      "cell_type": "code",
      "source": [
        "# Performing basic operations with complex numbers\n",
        "sum_result = num1 + num2\n",
        "print(f'Sum: {sum_result}')\n",
        "\n",
        "diff_result = num1 - num2\n",
        "print(f'Difference: {diff_result}')\n",
        "\n",
        "prod_result = num1 * num2\n",
        "print(f'Product: {prod_result}')\n",
        "\n",
        "div_result = num1 / num2\n",
        "print(f'Division: {div_result}')\n",
        "\n",
        "# Accessing real and imaginary parts\n",
        "print(f'Real part of num1: {num1.real}')\n",
        "print(f'Imaginary part of num1: {num1.imag}')"
      ],
      "metadata": {
        "id": "Fqno2ejXXnz2"
      },
      "execution_count": null,
      "outputs": []
    },
    {
      "cell_type": "markdown",
      "source": [
        "```\n",
        "\n",
        "```\n",
        "\n",
        "\n",
        "---\n",
        "\n"
      ],
      "metadata": {
        "id": "g5xVWDNqfJ5R"
      }
    },
    {
      "cell_type": "markdown",
      "source": [
        "## 2.Non  Numerical Data Types\n",
        "## 2.1  **String Data Type**\n",
        "\n",
        "\n",
        "## String Manipulation and Methods in Python\n",
        "\n",
        "Strings in Python are **immutable sequences of characters**. Python provides a variety of built-in methods to manipulate and process strings efficiently.\n",
        "\n",
        "A `string` is enclosed in single (`'`), double (`\"`), or triple (`'''` or `\"\"\"`) quotes.\n",
        "Let's explore the most commonly used string methods with examples.\n",
        "\n",
        "---\n",
        "\n",
        "\n"
      ],
      "metadata": {
        "id": "pIgGXPCScLMs"
      }
    },
    {
      "cell_type": "markdown",
      "source": [
        "# Python String Methods and Descriptions\n",
        "\n",
        "| Method | Description |\n",
        "|--------|------------|\n",
        "| `capitalize()` | Converts the first character to uppercase and the rest to lowercase. |\n",
        "| `casefold()` | Converts the string into lowercase for case-insensitive comparisons. |\n",
        "| `center(width, fillchar)` | Centers the string with a specified width, using `fillchar` as padding (default is space). |\n",
        "| `count(substring, start, end)` | Counts occurrences of `substring` between `start` and `end` indices. |\n",
        "| `endswith(suffix, start, end)` | Checks if the string ends with the given `suffix`. |\n",
        "| `find(substring, start, end)` | Returns the index of the first occurrence of `substring`, or `-1` if not found. |\n",
        "| `index(substring, start, end)` | Same as `find()`, but raises a `ValueError` if `substring` is not found. |\n",
        "| `isalnum()` | Returns `True` if all characters in the string are alphanumeric. |\n",
        "| `isalpha()` | Returns `True` if all characters in the string are alphabetic. |\n",
        "| `isdigit()` | Returns `True` if all characters in the string are digits. |\n",
        "| `islower()` | Returns `True` if all characters in the string are lowercase. |\n",
        "| `isspace()` | Returns `True` if the string contains only whitespace characters. |\n",
        "| `istitle()` | Returns `True` if the string follows title case. |\n",
        "| `isupper()` | Returns `True` if all characters in the string are uppercase. |\n",
        "| `join(iterable)` | Joins elements of an iterable into a string with the calling string as a separator. |\n",
        "| `lower()` | Converts all characters in the string to lowercase. |\n",
        "| `upper()` | Converts all characters in the string to uppercase. |\n",
        "| `replace(old, new, count)` | Replaces occurrences of `old` with `new`, up to `count` times. |\n",
        "| `split(separator, maxsplit)` | Splits the string at `separator` into a list (default separator is whitespace). |\n",
        "| `strip(chars)` | Removes leading and trailing characters (default is whitespace). |\n",
        "| `swapcase()` | Swaps uppercase letters to lowercase and vice versa. |\n",
        "| `title()` | Converts the first character of each word to uppercase. |\n",
        "| `zfill(width)` | Pads the string with zeros (`0`) until it reaches the specified width. |\n",
        "\n"
      ],
      "metadata": {
        "id": "zsLTnTF-UX86"
      }
    },
    {
      "cell_type": "markdown",
      "source": [
        "## 1️⃣ `len()` - Get Length of a String\n",
        "The `len()` function returns the **number of characters** in a string, including spaces and special characters."
      ],
      "metadata": {
        "id": "Qew8UWE6UbRA"
      }
    },
    {
      "cell_type": "code",
      "source": [
        "text = \"Hello, Python!\"\n",
        "print(len(text))\n",
        "\n",
        "# Example with empty string\n",
        "empty_str = \"\"\n",
        "print(len(empty_str))"
      ],
      "metadata": {
        "id": "0NdEtTrqcOkl"
      },
      "execution_count": null,
      "outputs": []
    },
    {
      "cell_type": "markdown",
      "source": [
        "\n",
        "## 2️⃣ `lower()` - Convert to Lowercase\n",
        "The `lower()` method converts **all uppercase** characters in a string to **lowercase**.\n"
      ],
      "metadata": {
        "id": "s5cBdnbkcWc2"
      }
    },
    {
      "cell_type": "code",
      "source": [
        "text = \"Python Programming\"\n",
        "print(text.lower())\n",
        "\n",
        "# Example with mixed case\n",
        "text2 = \"PyThOn Is CoOl\"\n",
        "print(text2.lower())"
      ],
      "metadata": {
        "id": "MuFyOV_PcWKj"
      },
      "execution_count": null,
      "outputs": []
    },
    {
      "cell_type": "markdown",
      "source": [
        "## 3️⃣ `upper()` - Convert to Uppercase\n",
        "The `upper()` method converts **all lowercase** characters in a string to **uppercase**.\n"
      ],
      "metadata": {
        "id": "tVLn_biLcfEr"
      }
    },
    {
      "cell_type": "code",
      "source": [
        "text = \"Hello, Python!\"\n",
        "print(text.upper())\n",
        "\n",
        "# Example with special characters\n",
        "text2 = \"hello@123\"\n",
        "print(text2.upper())"
      ],
      "metadata": {
        "id": "xMOiboBVceu-"
      },
      "execution_count": null,
      "outputs": []
    },
    {
      "cell_type": "markdown",
      "source": [
        "## 4️⃣ `strip()` - Remove Whitespace\n",
        "The `strip()` method removes **leading and trailing spaces, tabs, and newline characters**.\n",
        "\n",
        "\n",
        "\n",
        "🔹 **`lstrip()` and `rstrip()`:** Remove spaces only from the left or right side.\n"
      ],
      "metadata": {
        "id": "pSR-u5jwcpTJ"
      }
    },
    {
      "cell_type": "code",
      "source": [
        "text = \"   Hello, World!   \"\n",
        "print(\"Split:\",text.strip())\n",
        "\n",
        "# Example with newline and tab characters\n",
        "text2 = \"\\n\\tHello Python!\\t\\n\"\n",
        "print(\"New line and tab:\",text2.strip())\n",
        "print(\"lstrip:\",text.lstrip())\n",
        "print(\"rstrip:\",text.rstrip())"
      ],
      "metadata": {
        "id": "UyA8YcrAcs0L"
      },
      "execution_count": null,
      "outputs": []
    },
    {
      "cell_type": "markdown",
      "source": [
        "\n",
        "\n",
        "## 5️⃣ `split()` - Split a String into a List\n",
        "The `split()` method **splits a string** into a list of substrings based on a separator.\n"
      ],
      "metadata": {
        "id": "7EIsznkLdfg5"
      }
    },
    {
      "cell_type": "code",
      "source": [
        "text = \"Python is fun\"\n",
        "words = text.split()\n",
        "print(words)"
      ],
      "metadata": {
        "id": "2F8WZ1fXdfOW"
      },
      "execution_count": null,
      "outputs": []
    },
    {
      "cell_type": "markdown",
      "source": [
        "🔹 **Splitting using a custom delimiter:**"
      ],
      "metadata": {
        "id": "vyOyQPpDdmCm"
      }
    },
    {
      "cell_type": "code",
      "source": [
        "csv_data = \"apple,banana,grapes\"\n",
        "print(csv_data.split(\",\"))\n",
        "\n",
        "# Example with multiple spaces\n",
        "text2 = \"Python   is   powerful\"\n",
        "print(text2.split())"
      ],
      "metadata": {
        "id": "6Eb009fUdonX"
      },
      "execution_count": null,
      "outputs": []
    },
    {
      "cell_type": "markdown",
      "source": [
        "## 6️⃣ `join()` - Join List Elements into a String\n",
        "The `join()` method combines **list elements into a single string** using a specified separator.\n",
        "\n",
        "  "
      ],
      "metadata": {
        "id": "ucjLnR1adz45"
      }
    },
    {
      "cell_type": "code",
      "source": [
        "words = [\"Python\", \"is\", \"fun\"]\n",
        "print(\" \".join(words))"
      ],
      "metadata": {
        "id": "iZ1P5Vk1d3Z4"
      },
      "execution_count": null,
      "outputs": []
    },
    {
      "cell_type": "markdown",
      "source": [
        "🔹 **Joining with a different separator:**\n"
      ],
      "metadata": {
        "id": "1QXzbVktd57r"
      }
    },
    {
      "cell_type": "code",
      "source": [
        "print(\"-\".join(words))"
      ],
      "metadata": {
        "id": "qWmOgQj3d-ha"
      },
      "execution_count": null,
      "outputs": []
    },
    {
      "cell_type": "markdown",
      "source": [
        "🔹 **Joining characters of a string:**"
      ],
      "metadata": {
        "id": "0CE-UpGqd5t9"
      }
    },
    {
      "cell_type": "code",
      "source": [
        "text = \"HELLO\"\n",
        "print(\" \".join(text))"
      ],
      "metadata": {
        "id": "QSo4t-Zad_Zw"
      },
      "execution_count": null,
      "outputs": []
    },
    {
      "cell_type": "markdown",
      "source": [
        "## 7️⃣ `replace()` - Replace Substring\n",
        "The `replace()` method **replaces occurrences** of a substring with another substring.\n",
        "\n",
        "\n",
        "\n"
      ],
      "metadata": {
        "id": "JKr63lNPeRkK"
      }
    },
    {
      "cell_type": "code",
      "source": [
        "text = \"I love Java!\"\n",
        "print(text.replace(\"Java\", \"Python\"))"
      ],
      "metadata": {
        "id": "HOYtgcerX2pp"
      },
      "execution_count": null,
      "outputs": []
    },
    {
      "cell_type": "markdown",
      "source": [
        "🔹 **Replacing multiple occurrences:**"
      ],
      "metadata": {
        "id": "Anj781TJecIU"
      }
    },
    {
      "cell_type": "code",
      "source": [
        "text = \"apple apple orange\"\n",
        "print(text.replace(\"apple\", \"banana\"))  # Output: banana banana orange\n"
      ],
      "metadata": {
        "id": "HxPmvtddX2cv"
      },
      "execution_count": null,
      "outputs": []
    },
    {
      "cell_type": "markdown",
      "source": [
        "\n",
        "🔹 **Replacing characters in a string:**"
      ],
      "metadata": {
        "id": "2Q_OwP8WegAg"
      }
    },
    {
      "cell_type": "code",
      "source": [
        "text = \"Hello World\"\n",
        "print(text.replace(\"o\", \"0\"))"
      ],
      "metadata": {
        "id": "DzNaTGI3Xy63"
      },
      "execution_count": null,
      "outputs": []
    },
    {
      "cell_type": "markdown",
      "source": [
        "## 8️⃣ `startswith()` and `endswith()` - Check Start or End of String\n",
        "These methods check whether a string starts or ends with a given substring.\n",
        "\n"
      ],
      "metadata": {
        "id": "D4KaLO9Wenw7"
      }
    },
    {
      "cell_type": "code",
      "source": [
        "text = \"Python Programming\"\n",
        "print(text.startswith(\"Python\"))\n",
        "print(text.endswith(\"Java\"))\n",
        "\n",
        "\n"
      ],
      "metadata": {
        "id": "TvlrhrdeXyup"
      },
      "execution_count": null,
      "outputs": []
    },
    {
      "cell_type": "markdown",
      "source": [
        "🔹 **Example with case sensitivity:**"
      ],
      "metadata": {
        "id": "D3Ce_tlEeu-e"
      }
    },
    {
      "cell_type": "code",
      "source": [
        "print(text.startswith(\"python\"))\n",
        "print(text.lower().startswith(\"python\"))"
      ],
      "metadata": {
        "id": "c78kMJFdex5e"
      },
      "execution_count": null,
      "outputs": []
    },
    {
      "cell_type": "markdown",
      "source": [
        "## 2.2 **Boolean Data Type**\n",
        "A `boolean` type represents one of **two** values: `True` or `False`.\n",
        "\n",
        "### 🔹 Examples:\n",
        "\n"
      ],
      "metadata": {
        "id": "HeOp99JqSeFB"
      }
    },
    {
      "cell_type": "code",
      "source": [
        "is_python_fun = True\n",
        "print(type(is_python_fun))  # Output: <class 'bool'>"
      ],
      "metadata": {
        "id": "8U3onEhNe3uw"
      },
      "execution_count": null,
      "outputs": []
    },
    {
      "cell_type": "markdown",
      "source": [
        "\n",
        "🔹 **Boolean Expressions:**"
      ],
      "metadata": {
        "id": "5-8t-sn2XPO9"
      }
    },
    {
      "cell_type": "code",
      "source": [
        "print(10 > 5)   # Output: True\n",
        "print(10 < 5)   # Output: False\n",
        "print(bool(0))  # Output: False\n",
        "print(bool(42)) # Output: True"
      ],
      "metadata": {
        "id": "YYOV2tECSdwx"
      },
      "execution_count": null,
      "outputs": []
    },
    {
      "cell_type": "markdown",
      "source": [
        "## Indexing and Slicing in Python Strings\n",
        "\n",
        "In Python, **indexing** is used to access individual characters in a string, while **slicing** is used to extract a portion (substring) of a string. Python supports both **positive and negative indexing**."
      ],
      "metadata": {
        "id": "qNxyiTbUoaYZ"
      }
    },
    {
      "cell_type": "markdown",
      "source": [
        "## 1️⃣ Indexing: Accessing Single Characters\n",
        "\n",
        "Indexing allows us to retrieve a specific character from a string based on its position.\n",
        "![image.png](data:image/png;base64,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)\n",
        "\n",
        "🔹 **Python uses zero-based indexing**:\n",
        "- The **first character** is at index `0`.\n",
        "- The **last character** is at index `-1` (negative indexing).\n",
        "\n",
        "### 🔹 Example:"
      ],
      "metadata": {
        "id": "NdInufzjlJNk"
      }
    },
    {
      "cell_type": "code",
      "source": [
        "a = \"Python\"\n",
        "print(a[0])\n",
        "print(a[1])\n",
        "print(a[2])\n",
        "print(a[3])\n",
        "print(a[4])\n",
        "print(a[5])\n",
        "\n",
        "print(a[-1])  # (Last character)\n",
        "print(a[-3])"
      ],
      "metadata": {
        "id": "phHLC6hmlNk8"
      },
      "execution_count": null,
      "outputs": []
    },
    {
      "cell_type": "markdown",
      "source": [
        "**Accessing characters dynamically:**"
      ],
      "metadata": {
        "id": "FdI-vLjjlXGd"
      }
    },
    {
      "cell_type": "code",
      "source": [
        "word = \"Python\"\n",
        "n = int(input(\"Enter an index: \"))  # User inputs an index\n",
        "print(\"Character at index\", n, \"is:\", word[n])"
      ],
      "metadata": {
        "id": "m6kYO-2TlZ-d"
      },
      "execution_count": null,
      "outputs": []
    },
    {
      "cell_type": "markdown",
      "source": [
        "### ⛔ **Trying to access an index that does not exist will raise an `IndexError`.**\n"
      ],
      "metadata": {
        "id": "UR7PO-x8leeP"
      }
    },
    {
      "cell_type": "code",
      "source": [
        "\n",
        "# text = \"Hello\"\n",
        "# print(text[5])\n"
      ],
      "metadata": {
        "id": "UPKzMXJpln6g"
      },
      "execution_count": null,
      "outputs": []
    },
    {
      "cell_type": "markdown",
      "source": [
        "---\n",
        "## 2️⃣ Slicing: Extracting Substrings\n",
        "\n",
        "Slicing allows extracting a substring from a string using the **slice operator `[start:stop:step]`**.\n",
        "\n",
        "\n",
        "\n",
        "![image.png](data:image/png;base64,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)\n",
        "---\n",
        "\n",
        "🔹 **Parameters of Slicing:**\n",
        "- `start`: The starting index (inclusive, default is `0`).\n",
        "- `stop`: The ending index (exclusive, required).\n",
        "- `step`: The increment between indices (default is `1`).\n",
        "\n",
        "### 🔹 Example:"
      ],
      "metadata": {
        "id": "_oIA7LXAlrZM"
      }
    },
    {
      "cell_type": "code",
      "source": [
        "text = \"Language\"\n",
        "print(text[0:5])\n",
        "print(text[:5])\n",
        "print(text[3:])\n",
        "print(text[-7:-3])"
      ],
      "metadata": {
        "id": "e2Sm19Orlu90"
      },
      "execution_count": null,
      "outputs": []
    },
    {
      "cell_type": "markdown",
      "source": [
        "## 3️⃣ Advanced Slicing with Steps\n",
        "\n",
        "The **step parameter** allows skipping characters in a sequence.\n",
        "\n",
        "### 🔹 Example:"
      ],
      "metadata": {
        "id": "PKJ9Qs3pl1VR"
      }
    },
    {
      "cell_type": "code",
      "source": [
        "word = \"Language\"\n",
        "print(word[0:9:2])  # every 2nd character\n",
        "print(word[::3])    # every 3rd character from the start\n",
        "print(word[::-1])   # reverses the string"
      ],
      "metadata": {
        "id": "wUA4VaCrmHHh"
      },
      "execution_count": null,
      "outputs": []
    },
    {
      "cell_type": "markdown",
      "source": [
        "🔹 **Using slicing to reverse a string dynamically:**\n"
      ],
      "metadata": {
        "id": "I33yw9IrmJyp"
      }
    },
    {
      "cell_type": "code",
      "source": [
        "name = \"Python Programming\"\n",
        "print(\"Reversed:\", name[::-1])"
      ],
      "metadata": {
        "id": "WO01mATrSdtt"
      },
      "execution_count": null,
      "outputs": []
    },
    {
      "cell_type": "markdown",
      "source": [
        "1️⃣\n",
        "2️⃣\n",
        "3️⃣\n",
        "4️⃣\n",
        "5️⃣"
      ],
      "metadata": {
        "id": "py7KZmLOm94T"
      }
    },
    {
      "cell_type": "markdown",
      "source": [
        "# **Type Casting in Python: Int and Float**  \n",
        "\n",
        "Type casting (type conversion) allows converting one data type into another, such as converting an **integer to a float** or a **float to an integer**.  \n",
        "\n",
        "---\n",
        "\n",
        "## **1️⃣. Converting Integer to Float**  \n",
        "You can convert an **integer (`int`)** to a **floating-point number (`float`)** using the `float()` function.  \n",
        "\n",
        "### **Example:**  \n",
        "\n",
        "\n"
      ],
      "metadata": {
        "id": "bUFO34M5NEAV"
      }
    },
    {
      "cell_type": "code",
      "source": [
        "num_int = 10\n",
        "num_float = float(num_int)\n",
        "print(\"Integer to Float:\",)\n",
        "print(num_float, type(num_float))"
      ],
      "metadata": {
        "id": "oidnw8vdNDs8"
      },
      "execution_count": null,
      "outputs": []
    },
    {
      "cell_type": "markdown",
      "source": [
        "## **2️⃣.Converting Float to Integer**\n",
        "You can convert a **floating-point** number (float) to an **integer** (int) using the int() function.\n",
        "\n",
        "`⚠ Note:` This will truncate (remove the decimal part), not round the number."
      ],
      "metadata": {
        "id": "8x8ijCgJPYrb"
      }
    },
    {
      "cell_type": "code",
      "source": [
        "# Output: <class 'int'>\n",
        "# Output: <class 'float'>\n",
        "\n",
        "# Complex number example\n",
        "num3 = 3 + 4j\n",
        "print(type(num3))  # Output: <class 'complex'>"
      ],
      "metadata": {
        "id": "letjuw3ZHGz5"
      },
      "execution_count": null,
      "outputs": []
    },
    {
      "cell_type": "markdown",
      "source": [
        "## **3️⃣. Converting String to Integer or Float**\n",
        "Python allows converting strings to numbers if the string contains a valid numeric value.\n",
        "\n",
        "**String to Integer**"
      ],
      "metadata": {
        "id": "3GVWUM7jP14b"
      }
    },
    {
      "cell_type": "code",
      "source": [
        "num_str = \"25\"\n",
        "num_int = int(num_str)\n",
        "print(\"String to Integer\")\n",
        "print(num_int, type(num_int))\n"
      ],
      "metadata": {
        "id": "3lPAFAGhNBKY"
      },
      "execution_count": null,
      "outputs": []
    },
    {
      "cell_type": "markdown",
      "source": [
        "**String to Float**"
      ],
      "metadata": {
        "id": "9sdJMYaEQNBt"
      }
    },
    {
      "cell_type": "code",
      "source": [
        "num_str = \"25.75\"\n",
        "num_float = float(num_str)\n",
        "print(\"String to Float\")\n",
        "print(num_float, type(num_float))\n",
        "# Output: 25.75 <class 'float'>\n"
      ],
      "metadata": {
        "id": "oQvf8sN8NBG_"
      },
      "execution_count": null,
      "outputs": []
    },
    {
      "cell_type": "markdown",
      "source": [
        "**⚠ Invalid Conversion Example:**\n"
      ],
      "metadata": {
        "id": "UUO0LGhuQX-7"
      }
    },
    {
      "cell_type": "code",
      "source": [
        "# num_str = \"25.5a\"\n",
        "# num_int = int(num_str)\n"
      ],
      "metadata": {
        "id": "fBfNgoqKQcxT"
      },
      "execution_count": null,
      "outputs": []
    },
    {
      "cell_type": "markdown",
      "source": [
        "## **4️⃣. Converting Float to String and Integer to String**\n",
        "You can convert numbers to strings using `str()`.\n",
        "\n",
        "\n"
      ],
      "metadata": {
        "id": "9N832p8TQieZ"
      }
    },
    {
      "cell_type": "code",
      "source": [
        "num_int = 100\n",
        "num_float = 12.34\n",
        "\n",
        "str_int = str(num_int)\n",
        "str_float = str(num_float)\n",
        "\n",
        "print(str_int, type(str_int))\n",
        "print(str_float, type(str_float))\n"
      ],
      "metadata": {
        "id": "xpBBlhpcQtG3"
      },
      "execution_count": null,
      "outputs": []
    },
    {
      "cell_type": "markdown",
      "source": [
        "# Collection Data Types - List in Python\n",
        "\n",
        "# List: A sequential data type that holds multiple heterogeneous values separated by commas\n",
        "# and enclosed in square brackets.\n",
        "\n",
        "# Example:\n",
        "grades = [85, 92, 78, 95]\n",
        "a = [1, 2, 3, 5, 2.0, 65.0, 'lst']\n",
        "\n",
        "### Attributes of List:\n",
        "### ✅ Mutable: We can modify/change the original data\n",
        "### ✅ Ordered: Index-based\n",
        "### ✅ Duplicates are allowed\n",
        "### ✅ Index-based\n",
        "\n",
        "#### **CRUD** Operations: Create, Read, Update, Delete"
      ],
      "metadata": {
        "id": "5ytM8rTXqEDH"
      }
    },
    {
      "cell_type": "markdown",
      "source": [
        "# **List Method and Description**\n",
        "\n",
        "| Method | Description |\n",
        "|--------|------------|\n",
        "| `append(x)` | Adds an item `x` to the end of the list. |\n",
        "| `extend(iterable)` | Extends the list by appending all elements from an iterable. |\n",
        "| `insert(i, x)` | Inserts item `x` at position `i`. |\n",
        "| `remove(x)` | Removes the first occurrence of item `x`. |\n",
        "| `pop([i])` | Removes and returns the item at index `i`. If `i` is not provided, removes the last item. |\n",
        "| `clear()` | Removes all elements from the list. |\n",
        "| `index(x, [start, end])` | Returns the index of the first occurrence of `x` between `start` and `end`. |\n",
        "| `count(x)` | Returns the number of occurrences of `x` in the list. |\n",
        "| `sort(key=None, reverse=False)` | Sorts the list in ascending order (can be customized using `key` and `reverse`). |\n",
        "| `reverse()` | Reverses the elements of the list in place. |\n",
        "| `copy()` | Returns a shallow copy of the list. |\n"
      ],
      "metadata": {
        "id": "2cLMlXQiT_TN"
      }
    },
    {
      "cell_type": "markdown",
      "source": [
        "## CREATE:"
      ],
      "metadata": {
        "id": "BNzwzc6QqgFv"
      }
    },
    {
      "cell_type": "code",
      "source": [
        "empty_list = []  # Creating an empty list\n",
        "empty_list_alt = list()  # Another way to create an empty list\n",
        "list_with_values = [10, 20, 30, 40]  # Creating a list with values\n",
        "\n",
        "# Example:\n",
        "new_list = [\"Python\", \"Java\", \"C++\"]\n",
        "print(\"Created List:\", new_list)"
      ],
      "metadata": {
        "id": "izWV-P72qkH8"
      },
      "execution_count": null,
      "outputs": []
    },
    {
      "cell_type": "markdown",
      "source": [
        "## READ:"
      ],
      "metadata": {
        "id": "T41CL-czqmsP"
      }
    },
    {
      "cell_type": "code",
      "source": [
        "# Using for loop to read values\n",
        "for value in list_with_values:\n",
        "    print(\"Reading value:\", value)"
      ],
      "metadata": {
        "id": "-ISZRXJbqsGa"
      },
      "execution_count": null,
      "outputs": []
    },
    {
      "cell_type": "markdown",
      "source": [
        "## UPDATE:\n",
        "### Using append() method"
      ],
      "metadata": {
        "id": "e1X7XSBBqzmy"
      }
    },
    {
      "cell_type": "code",
      "source": [
        "list_with_values.append(50)  # Adds 50 at the end\n",
        "print(\"After append:\", list_with_values)"
      ],
      "metadata": {
        "id": "c06jihiMqyad"
      },
      "execution_count": null,
      "outputs": []
    },
    {
      "cell_type": "markdown",
      "source": [
        "# Using extend() method\n"
      ],
      "metadata": {
        "id": "U9NmtyOxq5Ii"
      }
    },
    {
      "cell_type": "code",
      "source": [
        "list_with_values.extend([60, 70, 80])\n",
        "print(\"After extend:\", list_with_values)"
      ],
      "metadata": {
        "id": "8M554adtq6vo"
      },
      "execution_count": null,
      "outputs": []
    },
    {
      "cell_type": "markdown",
      "source": [
        "## Using insert() method\n"
      ],
      "metadata": {
        "id": "YWZimfyHq9mW"
      }
    },
    {
      "cell_type": "code",
      "source": [
        "list_with_values.insert(2, 25)\n",
        "print(\"After insert:\", list_with_values)\n",
        "\n",
        "# Example:\n",
        "numbers = [1, 2, 3]\n",
        "numbers.append(4)  # Adding at the end\n",
        "numbers.insert(1, 10)  # Inserting at index 1\n",
        "numbers.extend([5, 6, 7])  # Extending list\n",
        "print(\"Updated List:\", numbers)"
      ],
      "metadata": {
        "id": "ZwrrVB5oq_wS"
      },
      "execution_count": null,
      "outputs": []
    },
    {
      "cell_type": "markdown",
      "source": [
        "## DELETE:\n",
        "### Using remove() method\n"
      ],
      "metadata": {
        "id": "-pRXVsQcrFGa"
      }
    },
    {
      "cell_type": "code",
      "source": [
        "list_with_values.remove(30)  # Removes the first occurrence of 30\n",
        "print(\"After remove:\", list_with_values)"
      ],
      "metadata": {
        "id": "UNmC8FrkrIJu"
      },
      "execution_count": null,
      "outputs": []
    },
    {
      "cell_type": "markdown",
      "source": [
        "\n",
        "## Using pop() method"
      ],
      "metadata": {
        "id": "HV-gQrznrPZc"
      }
    },
    {
      "cell_type": "code",
      "source": [
        "popped_element = list_with_values.pop()  # Removes the last element\n",
        "print(\"Popped Element:\", popped_element)\n",
        "print(\"After pop:\", list_with_values)"
      ],
      "metadata": {
        "id": "IIzLhkbVrM9Z"
      },
      "execution_count": null,
      "outputs": []
    },
    {
      "cell_type": "markdown",
      "source": [
        "## Using del keyword\n"
      ],
      "metadata": {
        "id": "z9TNioJKrTVz"
      }
    },
    {
      "cell_type": "code",
      "source": [
        "del list_with_values[1]  # Deletes element at index 1\n",
        "print(\"After del:\", list_with_values)"
      ],
      "metadata": {
        "id": "nhG3awpTrM1c"
      },
      "execution_count": null,
      "outputs": []
    },
    {
      "cell_type": "code",
      "source": [
        "# Using clear() method\n",
        "list_with_values.clear()  # Removes all elements\n",
        "print(\"After clear:\", list_with_values)\n",
        "\n",
        "# Example:\n",
        "fruits = [\"apple\", \"banana\", \"cherry\", \"mango\"]\n",
        "fruits.pop(2)  # Removes 'cherry'\n",
        "del fruits[0]  # Removes 'apple'\n",
        "print(\"After deletion:\", fruits)"
      ],
      "metadata": {
        "id": "V2H1Do_qqLyz"
      },
      "execution_count": null,
      "outputs": []
    },
    {
      "cell_type": "markdown",
      "source": [
        "## List Manipulation Methods with Examples:\n"
      ],
      "metadata": {
        "id": "zPOva8K0reAn"
      }
    },
    {
      "cell_type": "markdown",
      "source": [
        "### 1️⃣ append(): Adds an element to the end of the list.\n"
      ],
      "metadata": {
        "id": "fFrB7rsWuHjP"
      }
    },
    {
      "cell_type": "code",
      "source": [
        "fruits = ['apple', 'banana']\n",
        "lst = []  # Empty list\n",
        "lst.append('cherry')\n",
        "print(\"After append:\", lst)\n",
        "\n",
        "num = [1,2,3,4,5,6]\n",
        "num.append(7)\n",
        "print(\"After append:\", num)\n",
        "\n"
      ],
      "metadata": {
        "id": "UHLD__dBuHTV"
      },
      "execution_count": null,
      "outputs": []
    },
    {
      "cell_type": "markdown",
      "source": [
        "### 2️⃣ extend(): Extends the list by appending elements from another iterable.\n"
      ],
      "metadata": {
        "id": "gDIee8tSuLB3"
      }
    },
    {
      "cell_type": "code",
      "source": [
        "num1 = [1,2,3,4,5]\n",
        "num2 = [6,7,8,9,10]\n",
        "num1.extend(num2)\n",
        "print(\"After extend:\", num1)\n",
        "\n",
        "fruits = ['apple', 'banana']\n",
        "fruits.extend(['orange', 'grape'])\n",
        "print(\"After extend:\", fruits)"
      ],
      "metadata": {
        "id": "eBflwtrXuOsU"
      },
      "execution_count": null,
      "outputs": []
    },
    {
      "cell_type": "markdown",
      "source": [
        "\n",
        "### 3️⃣ insert(): Inserts an element at a specific index.\n"
      ],
      "metadata": {
        "id": "v4pWJVd3uRSY"
      }
    },
    {
      "cell_type": "code",
      "source": [
        "fruits = ['apple', 'banana']\n",
        "fruits.insert(1, 'mango')\n",
        "print(\"After insert:\", fruits)\n",
        "\n",
        "num2 = [1,2,3,4,5]\n",
        "num2.insert(2, 10)\n",
        "print(\"After insert:\", num2)\n",
        "\n",
        "num2.insert(0, 0)\n",
        "print(\"After insert:\", num2)"
      ],
      "metadata": {
        "id": "OO1jo-bRuRA4"
      },
      "execution_count": null,
      "outputs": []
    },
    {
      "cell_type": "code",
      "source": [
        "### 4️⃣ remove(): Removes the first occurrence of a specified value."
      ],
      "metadata": {
        "id": "dHUNixKduQ4y"
      },
      "execution_count": null,
      "outputs": []
    },
    {
      "cell_type": "code",
      "source": [
        "fruits = ['apple', 'banana']\n",
        "fruits.remove('banana')\n",
        "print(\"After remove:\", fruits)\n",
        "\n",
        "num2= [1,2,3,4,5,6]\n",
        "num2.remove(3)\n",
        "print(\"After remove:\", num2)\n",
        "\n",
        "num2.remove(1)\n",
        "print(\"After remove:\", num2)"
      ],
      "metadata": {
        "id": "xY3VQ_SiuXo7"
      },
      "execution_count": null,
      "outputs": []
    },
    {
      "cell_type": "markdown",
      "source": [
        "\n",
        "# 5️⃣ pop(): Removes and returns the element at a specified index (default last element)."
      ],
      "metadata": {
        "id": "5Y9PQWyxyp_p"
      }
    },
    {
      "cell_type": "code",
      "source": [
        "fruits = ['apple', 'banana', 'orange', 'grape']\n",
        "\n",
        "popped_fruit = fruits.pop()\n",
        "print(\"Popped:\", popped_fruit)\n",
        "print(\"After pop:\", fruits)\n",
        "\n",
        "num = [1,2,3,4,5,6]\n",
        "popped_num = num.pop(2)\n",
        "print(\"Popped:\", popped_num)\n",
        "print(\"After pop:\", num)\n",
        "\n",
        "popped_num = num.pop(0)\n",
        "print(\"Popped:\", popped_num)\n",
        "print(\"After pop:\", num)\n",
        "\n",
        "popped_num = num.pop()\n",
        "print(\"Popped:\", popped_num)\n",
        "print(\"After pop:\", num)\n",
        "\n",
        "nums = [10, 20, 30, 40, 50]\n",
        "popped_last = nums.pop()\n",
        "popped_second = nums.pop(1)\n",
        "print(\"After popping elements:\", nums)"
      ],
      "metadata": {
        "id": "-Yl_BjhaypqX"
      },
      "execution_count": null,
      "outputs": []
    },
    {
      "cell_type": "markdown",
      "source": [
        "\n",
        "\n",
        "### 6️⃣ index(): Returns the index of the first occurrence of a specified value.\n"
      ],
      "metadata": {
        "id": "N_hkrjxlzHPA"
      }
    },
    {
      "cell_type": "code",
      "source": [
        "fruits = ['apple','banana', 'orange', 'grape']\n",
        "index_of_apple = fruits.index('apple')\n",
        "print(\"Index of apple:\", index_of_apple)\n",
        "\n",
        "num = [1,2,3,4,5,6]\n",
        "index_of_3 = num.index(3)\n",
        "print(\"Index of 3:\", index_of_3)\n",
        "\n",
        "index_of_1 = num.index(1)\n",
        "print(\"Index of 1:\", index_of_1)"
      ],
      "metadata": {
        "id": "IfzFtXY7zJpf"
      },
      "execution_count": null,
      "outputs": []
    },
    {
      "cell_type": "markdown",
      "source": [],
      "metadata": {
        "id": "08TRKJx7zbSK"
      }
    },
    {
      "cell_type": "markdown",
      "source": [
        "### 7️⃣ count(): Returns the number of occurrences of a specified element in the list.\n"
      ],
      "metadata": {
        "id": "g5rcy_exzbFu"
      }
    },
    {
      "cell_type": "code",
      "source": [
        "apple_count = fruits.count('apple')\n",
        "print(\"Apple count:\", apple_count)\n",
        "\n",
        "lst = [10,10,20,30,20,20,30]\n",
        "count_20 = lst.count(20)\n",
        "print(\"Count of 20:\", count_20)\n",
        "print(\"Count of 30:\",lst.count(30))\n",
        "\n",
        "letters = [\"a\", \"b\", \"c\", \"a\", \"b\", \"a\"]\n",
        "print(\"Count of 'a':\", letters.count(\"a\"))"
      ],
      "metadata": {
        "id": "4ggJVbhPzJmD"
      },
      "execution_count": null,
      "outputs": []
    },
    {
      "cell_type": "markdown",
      "source": [
        "\n",
        "# 8️⃣ sort(): Sorts the elements of the list in ascending order.\n"
      ],
      "metadata": {
        "id": "T8JABMDVz-gG"
      }
    },
    {
      "cell_type": "code",
      "source": [
        "numbers = [5, 1, 8, 3, 2]\n",
        "numbers.sort()\n",
        "print(\"Sorted list:\", numbers)\n",
        "\n",
        "# Example:\n",
        "words = [\"banana\", \"apple\", \"cherry\"]\n",
        "words.sort()\n",
        "print(\"Sorted words:\", words)"
      ],
      "metadata": {
        "id": "59LkmMt30Afr"
      },
      "execution_count": null,
      "outputs": []
    },
    {
      "cell_type": "markdown",
      "source": [
        "\n",
        "### 9️⃣ reverse(): Reverses the order of elements in the list.\n"
      ],
      "metadata": {
        "id": "tH096g7b5oPQ"
      }
    },
    {
      "cell_type": "code",
      "source": [
        "numbers.reverse()\n",
        "print(\"Reversed list:\", numbers)\n",
        "\n",
        "names = [\"Alice\", \"Bob\", \"Charlie\"]\n",
        "names.reverse()\n",
        "print(\"Reversed names:\", names)"
      ],
      "metadata": {
        "id": "6sT7TGab5qeF"
      },
      "execution_count": null,
      "outputs": []
    },
    {
      "cell_type": "markdown",
      "source": [
        "\n",
        "### 🔟 clear(): Removes all elements from the list."
      ],
      "metadata": {
        "id": "dQXyT5On5xLh"
      }
    },
    {
      "cell_type": "code",
      "source": [
        "numbers.clear()\n",
        "print(\"Cleared list:\", numbers)\n"
      ],
      "metadata": {
        "id": "yoT3v2FCqDg0"
      },
      "execution_count": null,
      "outputs": []
    },
    {
      "cell_type": "markdown",
      "source": [
        "## List Indexing and Slicing in Python"
      ],
      "metadata": {
        "id": "qXBtC9jawqW-"
      }
    },
    {
      "cell_type": "markdown",
      "source": [
        "\n",
        "### 1️⃣ List Indexing\n",
        "Indexing allows accessing individual elements of a list using their position.\n",
        "- Python uses zero-based indexing."
      ],
      "metadata": {
        "id": "yWEwNyHcwuSx"
      }
    },
    {
      "cell_type": "code",
      "source": [
        "my_list = ['apple', 'banana', 'cherry', 'date', 'elderberry']\n",
        "print(\"First element:\", my_list[0])\n",
        "print(\"Last element:\", my_list[-1])\n",
        "print(\"Second element:\", my_list[1])\n",
        "print(\"Second last element:\", my_list[-2])"
      ],
      "metadata": {
        "id": "i7VPlB15w113"
      },
      "execution_count": null,
      "outputs": []
    },
    {
      "cell_type": "markdown",
      "source": [
        "### 2️⃣ List Slicing\n",
        "Slicing allows extracting a sublist using the format: list[start:stop:step]"
      ],
      "metadata": {
        "id": "2jhdYI22w7qf"
      }
    },
    {
      "cell_type": "markdown",
      "source": [
        "#### Extract elements from index 1 to 3 (excluding 4th element)\n"
      ],
      "metadata": {
        "id": "5ZpTEX7oxrrw"
      }
    },
    {
      "cell_type": "code",
      "source": [
        "print(\"Sliced list (1:4):\", my_list[1:4])"
      ],
      "metadata": {
        "id": "lcer6Q80xqP3"
      },
      "execution_count": null,
      "outputs": []
    },
    {
      "cell_type": "markdown",
      "source": [
        "#### Extract elements from start to index 3\n"
      ],
      "metadata": {
        "id": "G5H978QSxu_H"
      }
    },
    {
      "cell_type": "code",
      "source": [
        "print(\"Sliced list (start to 3):\", my_list[:3])"
      ],
      "metadata": {
        "id": "_q-aub7uxqF_"
      },
      "execution_count": null,
      "outputs": []
    },
    {
      "cell_type": "markdown",
      "source": [
        "#### Extract elements from index 2 to the end\n"
      ],
      "metadata": {
        "id": "PBKUuHcKxz8R"
      }
    },
    {
      "cell_type": "code",
      "source": [
        "print(\"Sliced list (2 to end):\", my_list[2:])"
      ],
      "metadata": {
        "id": "B1q8xGB3xqCx"
      },
      "execution_count": null,
      "outputs": []
    },
    {
      "cell_type": "markdown",
      "source": [
        "\n",
        "#### Extract every second element"
      ],
      "metadata": {
        "id": "6gSgkBWQx35t"
      }
    },
    {
      "cell_type": "code",
      "source": [
        "print(\"Every second element:\", my_list[::2])"
      ],
      "metadata": {
        "id": "o_ZxB8bCxqAr"
      },
      "execution_count": null,
      "outputs": []
    },
    {
      "cell_type": "markdown",
      "source": [
        "#### Reverse a list using slicing\n"
      ],
      "metadata": {
        "id": "665sK7Ybx8C0"
      }
    },
    {
      "cell_type": "code",
      "source": [
        "print(\"Reversed list:\", my_list[::-1])"
      ],
      "metadata": {
        "id": "RGC28cEryAnc"
      },
      "execution_count": null,
      "outputs": []
    },
    {
      "cell_type": "markdown",
      "source": [
        "\n",
        "#### 3️⃣ Advanced Slicing Examples\n",
        "#### Extract every second element between index 1 and 4"
      ],
      "metadata": {
        "id": "tZNTORwYx_0y"
      }
    },
    {
      "cell_type": "code",
      "source": [
        "print(\"Every second element (1:5:2):\", my_list[1:5:2])"
      ],
      "metadata": {
        "id": "OOUAKKYwyJOK"
      },
      "execution_count": null,
      "outputs": []
    },
    {
      "cell_type": "markdown",
      "source": [
        "\n",
        "#### Copying a list using slicing"
      ],
      "metadata": {
        "id": "u2x4DISgx_mE"
      }
    },
    {
      "cell_type": "code",
      "source": [
        "copied_list = my_list[:]\n",
        "print(\"Copied list:\", copied_list)"
      ],
      "metadata": {
        "id": "IEy4ESncyLT9"
      },
      "execution_count": null,
      "outputs": []
    },
    {
      "cell_type": "markdown",
      "source": [
        "#### Modifying part of a list using slicing\n"
      ],
      "metadata": {
        "id": "UY7U9gbhyNEY"
      }
    },
    {
      "cell_type": "code",
      "source": [
        "my_list[1:3] = ['blackberry', 'blueberry']\n",
        "print(\"Modified list:\", my_list)\n"
      ],
      "metadata": {
        "id": "2b9lUk-Kwn75"
      },
      "execution_count": null,
      "outputs": []
    },
    {
      "cell_type": "markdown",
      "source": [
        "### Advanced List Operations in Python\n"
      ],
      "metadata": {
        "id": "CqcwojUbuAbc"
      }
    },
    {
      "cell_type": "markdown",
      "source": [
        "### 1️⃣ Copying a List (Shallow vs. Deep Copy)\n"
      ],
      "metadata": {
        "id": "0NxVhZ8052ju"
      }
    },
    {
      "cell_type": "code",
      "source": [
        "import copy\n",
        "original = [1, 2, [3, 4]]\n",
        "shallow_copy = original.copy()\n",
        "deep_copy = copy.deepcopy(original)\n",
        "\n",
        "shallow_copy[2][0] = 99\n",
        "print(\"Original List:\", original)  # Affected in shallow copy\n",
        "print(\"Deep Copy List:\", deep_copy)  # Unaffected\n",
        "\n",
        "# Example of shallow copy issue\n",
        "list1 = [[1, 2, 3], [4, 5, 6]]\n",
        "shallow_list = list1.copy()\n",
        "shallow_list[0][0] = 100\n",
        "print(\"Original after shallow copy modification:\", list1)"
      ],
      "metadata": {
        "id": "nZ47aVtM52Wn"
      },
      "execution_count": null,
      "outputs": []
    },
    {
      "cell_type": "code",
      "source": [
        "import copy\n",
        "original = [1, 2, [3, 4]]\n",
        "shallow_copy = original.copy()\n",
        "deep_copy = copy.deepcopy(original)\n",
        "\n",
        "shallow_copy[2][0] = 99\n",
        "print(\"Original List:\", original)  # Affected in shallow copy\n",
        "print(\"Deep Copy List:\", deep_copy)  # Unaffected\n",
        "\n",
        "# Example of shallow copy issue\n",
        "list1 = [[1, 2, 3], [4, 5, 6]]\n",
        "shallow_list = list1.copy()\n",
        "shallow_list[0][0] = 100\n",
        "print(\"Original after shallow copy modification:\", list1)"
      ],
      "metadata": {
        "id": "9fvW3viO9scp"
      },
      "execution_count": null,
      "outputs": []
    },
    {
      "cell_type": "code",
      "source": [
        "import copy\n",
        "\n",
        "original = [1,2,[3,4]]\n",
        "shallow_copy = original.copy()\n"
      ],
      "metadata": {
        "id": "NlSb0C3y9sXz"
      },
      "execution_count": null,
      "outputs": []
    },
    {
      "cell_type": "markdown",
      "source": [],
      "metadata": {
        "id": "XGIbpJINuxt_"
      }
    },
    {
      "cell_type": "markdown",
      "source": [
        "\n",
        "\n",
        "### 2️⃣ List Comprehensions (Efficient List Creation)"
      ],
      "metadata": {
        "id": "4bynCoKzuxX2"
      }
    },
    {
      "cell_type": "code",
      "source": [
        "squares = [x**2 for x in range(10)]\n",
        "even_numbers = [x for x in range(20) if x % 2 == 0]\n",
        "print(\"Squares:\", squares)\n",
        "print(\"Even Numbers:\", even_numbers)\n",
        "\n",
        "# Example: Creating a list of uppercase strings\n",
        "words = [\"hello\", \"world\", \"python\"]\n",
        "uppercase_words = [word.upper() for word in words]\n",
        "print(\"Uppercase Words:\", uppercase_words)"
      ],
      "metadata": {
        "id": "lTbsy-qV52Sf"
      },
      "execution_count": null,
      "outputs": []
    },
    {
      "cell_type": "markdown",
      "source": [
        "# 3️⃣ Filtering Lists Using filter()\n"
      ],
      "metadata": {
        "id": "yfti0-BVu4Hl"
      }
    },
    {
      "cell_type": "code",
      "source": [
        "numbers = [1, 2, 3, 4, 5, 6]\n",
        "even_nums = list(filter(lambda x: x % 2 == 0, numbers))\n",
        "print(\"Filtered Even Numbers:\", even_nums)\n",
        "\n",
        "# Example: Filtering names that start with 'A'\n",
        "names = [\"Alice\", \"Bob\", \"Amanda\", \"Charlie\"]\n",
        "filtered_names = list(filter(lambda name: name.startswith(\"A\"), names))\n",
        "print(\"Names starting with A:\", filtered_names)"
      ],
      "metadata": {
        "id": "CjRIg6gnu5v7"
      },
      "execution_count": null,
      "outputs": []
    },
    {
      "cell_type": "markdown",
      "source": [
        "### 4️⃣ Mapping and Transforming Lists (map())\n"
      ],
      "metadata": {
        "id": "LYeKRoxku_RT"
      }
    },
    {
      "cell_type": "code",
      "source": [
        "numbers = [1, 2, 3, 4]\n",
        "squared = list(map(lambda x: x**2, numbers))\n",
        "print(\"Squared Numbers:\", squared)\n",
        "\n",
        "# Example: Converting a list of strings to integers\n",
        "string_numbers = [\"10\", \"20\", \"30\"]\n",
        "integer_numbers = list(map(int, string_numbers))\n",
        "print(\"Converted Integers:\", integer_numbers)"
      ],
      "metadata": {
        "id": "tO1OfV_Vu-8i"
      },
      "execution_count": null,
      "outputs": []
    },
    {
      "cell_type": "markdown",
      "source": [
        "### 5️⃣ Flattening a Nested List\n"
      ],
      "metadata": {
        "id": "EBytW1LNvEbU"
      }
    },
    {
      "cell_type": "code",
      "source": [
        "nested_list = [[1, 2], [3, 4], [5, 6]]\n",
        "flat_list = [num for sublist in nested_list for num in sublist]\n",
        "print(\"Flattened List:\", flat_list)\n",
        "\n",
        "# Example: Flattening a more complex nested list\n",
        "complex_nested_list = [[[1, 2], [3]], [[4, 5], [6]]]\n",
        "complex_flat_list = [num for sublist in complex_nested_list for inner in sublist for num in inner]\n",
        "print(\"Complex Flattened List:\", complex_flat_list)"
      ],
      "metadata": {
        "id": "D-luSMvuu-5Y"
      },
      "execution_count": null,
      "outputs": []
    },
    {
      "cell_type": "markdown",
      "source": [
        "### 6️⃣ Sorting with Custom Key (Sorting Based on String Length)\n"
      ],
      "metadata": {
        "id": "D-ItldhbvI4C"
      }
    },
    {
      "cell_type": "code",
      "source": [
        "words = [\"banana\", \"apple\", \"strawberry\", \"kiwi\"]\n",
        "words.sort(key=len)\n",
        "print(\"Sorted by Length:\", words)\n",
        "\n",
        "# Example: Sorting a list of dictionaries by a key\n",
        "dict_list = [{\"name\": \"Alice\", \"age\": 25}, {\"name\": \"Bob\", \"age\": 20}, {\"name\": \"Charlie\", \"age\": 30}]\n",
        "dict_list.sort(key=lambda x: x[\"age\"])\n",
        "print(\"Sorted by Age:\", dict_list)"
      ],
      "metadata": {
        "id": "OZssCU_-u-3c"
      },
      "execution_count": null,
      "outputs": []
    },
    {
      "cell_type": "markdown",
      "source": [
        "### 7️⃣ Using enumerate() to Get Index While Looping"
      ],
      "metadata": {
        "id": "GtoE5dk9vOAu"
      }
    },
    {
      "cell_type": "code",
      "source": [
        "colors = [\"red\", \"green\", \"blue\"]\n",
        "for index, color in enumerate(colors):\n",
        "    print(f\"Index {index}: {color}\")\n",
        "\n",
        "# Example: Using enumerate to modify elements by index\n",
        "num_list = [10, 20, 30, 40]\n",
        "for index, num in enumerate(num_list):\n",
        "    num_list[index] = num * 2\n",
        "print(\"Doubled Numbers:\", num_list)\n"
      ],
      "metadata": {
        "id": "kBeQWQJBnaEc"
      },
      "execution_count": null,
      "outputs": []
    },
    {
      "cell_type": "markdown",
      "source": [
        "```\n",
        "---\n",
        "\n"
      ],
      "metadata": {
        "id": "E625jp9yySC3"
      }
    },
    {
      "cell_type": "markdown",
      "source": [
        "# Tuple in Python\n",
        "\n",
        "## 1️⃣ What is a Tuple?\n",
        "A sequential data type that holds multiple heterogeneous values separated by commas.\n",
        "\n",
        "Tuples are enclosed in parentheses `()`, but parentheses are optional.\n",
        "\n",
        "# Python Tuple Methods and Descriptions\n",
        "\n",
        "| Method | Description |\n",
        "|--------|------------|\n",
        "| `count(x)` | Returns the number of times `x` appears in the tuple. |\n",
        "| `index(x, start, end)` | Returns the index of the first occurrence of `x` between `start` and `end`. Raises a `ValueError` if not found. |\n"
      ],
      "metadata": {
        "id": "yc-M7kIu0FOT"
      }
    },
    {
      "cell_type": "code",
      "source": [
        "# Example of tuples\n",
        "tuple1 = (100, 200, 21.33, \"INDIA\")\n",
        "tuple2 = 100, 200, 21.33, \"INDIA\"\n",
        "print(\"tuple1\",tuple1)\n",
        "print(\"type of tuple1\",type(tuple1))\n",
        "print(\"tuple2\",tuple2)\n",
        "print(\"type of tuple1\",type(tuple1))"
      ],
      "metadata": {
        "id": "WvEwnOJP0Tm2"
      },
      "execution_count": null,
      "outputs": []
    },
    {
      "cell_type": "markdown",
      "source": [
        "## Attributes of Tuple:\n",
        "### ✅ Immutable: We cannot modify/change the original data\n",
        "### ✅ Ordered: Index-based\n",
        "### ✅ Duplicates are allowed\n",
        "### ✅ Index-based"
      ],
      "metadata": {
        "id": "0vRlu0xq0sFt"
      }
    },
    {
      "cell_type": "markdown",
      "source": [
        "\n",
        "## CRUD Operations: Create, Read, Update, Delete"
      ],
      "metadata": {
        "id": "VY2vBP9r024S"
      }
    },
    {
      "cell_type": "code",
      "source": [
        "# CREATE:\n",
        "# Creating an empty tuple\n",
        "empty_tuple = ()\n",
        " # Another way to create an empty tuple\n",
        "empty_tuple_alt = tuple()\n",
        "# Creating a tuple with values\n",
        "tuple_with_values = (10, 20, 30, 40)\n",
        "# Tuple with different data types\n",
        "mixed_tuple = (\"Python\", 3.14, True, [1, 2, 3])\n",
        "\n",
        "# READ:\n",
        "# Accessing elements using indexing\n",
        "tuple_example = ('apple', 'banana', 'cherry', 'date', 'elderberry')\n",
        "print(\"First element:\", tuple_example[0])\n",
        "print(\"Last element:\", tuple_example[-1])\n",
        "print(\"Third element:\", tuple_example[2])"
      ],
      "metadata": {
        "id": "SlSzdgCW0rsn"
      },
      "execution_count": null,
      "outputs": []
    },
    {
      "cell_type": "markdown",
      "source": [
        "## UPDATE:\n",
        "- Tuples are immutable, so we CANNOT insert, replace, or delete elements individually.\n",
        "- The only way to modify a tuple is by converting it into a list."
      ],
      "metadata": {
        "id": "Xpj4Mhif1UpS"
      }
    },
    {
      "cell_type": "code",
      "source": [
        "tuple_to_list = list(tuple_example)\n",
        "tuple_to_list.append(\"fig\")  # Adding an element\n",
        "tuple_to_list[1] = \"blueberry\"  # Modifying an element\n",
        "modified_tuple = tuple(tuple_to_list)\n",
        "print(\"Modified Tuple:\", modified_tuple)"
      ],
      "metadata": {
        "id": "6Y8eefpC1lRH"
      },
      "execution_count": null,
      "outputs": []
    },
    {
      "cell_type": "markdown",
      "source": [
        "## DELETE:\n",
        "\n",
        "We cannot delete individual elements from a tuple, but we can delete the entire tuple."
      ],
      "metadata": {
        "id": "mqqs9XgL1qCT"
      }
    },
    {
      "cell_type": "code",
      "source": [
        "tuple_delete = (\"Python\", \"Java\", \"C++\")\n",
        "del tuple_delete  # This deletes the entire tuple"
      ],
      "metadata": {
        "id": "YRmAjfkS1vRs"
      },
      "execution_count": null,
      "outputs": []
    },
    {
      "cell_type": "markdown",
      "source": [
        "## Tuple Manipulation\n",
        "\n",
        "### 1️⃣ index(): Returns the index of the first occurrence of a specified value in the tuple.\n"
      ],
      "metadata": {
        "id": "cR7yU-Yx1ybM"
      }
    },
    {
      "cell_type": "code",
      "source": [
        "tuple_numbers = (10, 20, 30, 20, 40, 50, 20)\n",
        "print(\"Index of 20:\", tuple_numbers.index(20))  # Returns 1 (first occurrence)"
      ],
      "metadata": {
        "id": "M5KEQV0P13dB"
      },
      "execution_count": null,
      "outputs": []
    },
    {
      "cell_type": "code",
      "source": [
        "# Handling ValueError\n",
        "try:\n",
        "    print(\"Index of 100:\", tuple_numbers.index(100))\n",
        "except ValueError:\n",
        "    print(\"100 is not in the tuple\")"
      ],
      "metadata": {
        "id": "mZZ51c4b1_Q8"
      },
      "execution_count": null,
      "outputs": []
    },
    {
      "cell_type": "markdown",
      "source": [
        "\n",
        "\n",
        "### 2️⃣ count(): Returns the number of times a specified element appears in the tuple.\n"
      ],
      "metadata": {
        "id": "k40RQ-2i1yEj"
      }
    },
    {
      "cell_type": "code",
      "source": [
        "print(\"Count of 20:\", tuple_numbers.count(20))  # Returns 3\n"
      ],
      "metadata": {
        "id": "gpiDiFst2FCe"
      },
      "execution_count": null,
      "outputs": []
    },
    {
      "cell_type": "markdown",
      "source": [
        "### Slicing tuples\n"
      ],
      "metadata": {
        "id": "Jef2g3601yA7"
      }
    },
    {
      "cell_type": "code",
      "source": [
        "print(\"Tuple slice (1:4):\", tuple_example[1:4])\n",
        "print(\"Tuple slice with step (0:5:2):\", tuple_example[0:5:2])\n",
        "print(\"Reversed tuple:\", tuple_example[::-1])"
      ],
      "metadata": {
        "id": "fLyI4yOH2JM9"
      },
      "execution_count": null,
      "outputs": []
    },
    {
      "cell_type": "code",
      "source": [
        "# Nested Tuples\n",
        "nested_tuple = ((1, 2, 3), (4, 5, 6), (7, 8, 9))\n",
        "print(\"Accessing nested element:\", nested_tuple[1][2])  # Accessing 6 from second tuple\n",
        "\n",
        "# Tuple Concatenation\n",
        "tuple_a = (1, 2, 3)\n",
        "tuple_b = (4, 5, 6)\n",
        "concatenated_tuple = tuple_a + tuple_b\n",
        "print(\"Concatenated Tuple:\", concatenated_tuple)\n",
        "\n",
        "# Tuple Replication\n",
        "tuple_c = (\"Hello\",) * 3\n",
        "print(\"Replicated Tuple:\", tuple_c)  # ('Hello', 'Hello', 'Hello')"
      ],
      "metadata": {
        "id": "22-RIgObnXOZ"
      },
      "execution_count": null,
      "outputs": []
    },
    {
      "cell_type": "markdown",
      "source": [
        "```\n",
        "---\n",
        "\n",
        "```"
      ],
      "metadata": {
        "id": "fJpk59E3Uwp2"
      }
    },
    {
      "cell_type": "markdown",
      "source": [
        "# Set in Python"
      ],
      "metadata": {
        "id": "dOHNDstbDw4a"
      }
    },
    {
      "cell_type": "markdown",
      "source": [
        "\n",
        "## 1️⃣ What is a Set?\n",
        " 1️⃣ What is a Set?\n",
        "\n",
        "A set is an unordered collection of unique elements. It does not allow duplicates and is mutable.\n",
        "\n",
        "Sets are commonly used to perform mathematical set operations like union, intersection, and difference.\n"
      ],
      "metadata": {
        "id": "iPOdJJDzEZ_-"
      }
    },
    {
      "cell_type": "markdown",
      "source": [
        "# Python Set Methods and Descriptions\n",
        "\n",
        "| Method | Description |\n",
        "|--------|------------|\n",
        "| `add(x)` | Adds element `x` to the set. |\n",
        "| `clear()` | Removes all elements from the set. |\n",
        "| `copy()` | Returns a shallow copy of the set. |\n",
        "| `difference(set2)` | Returns a new set with elements that are in the current set but not in `set2`. |\n",
        "| `difference_update(set2)` | Removes elements found in `set2` from the current set. |\n",
        "| `discard(x)` | Removes element `x` from the set if it exists (does not raise an error if `x` is absent). |\n",
        "| `remove(x)` | Removes element `x` from the set (raises `KeyError` if `x` is absent). |\n",
        "| `pop()` | Removes and returns an arbitrary element from the set. |\n",
        "| `intersection(set2)` | Returns a new set containing elements common to both sets. |\n",
        "| `intersection_update(set2)` | Updates the current set, keeping only elements found in both sets. |\n",
        "| `union(set2, set3, ...)` | Returns a new set containing all elements from all given sets. |\n",
        "| `update(set2, set3, ...)` | Updates the current set, adding elements from other sets. |\n",
        "| `issubset(set2)` | Returns `True` if all elements of the set exist in `set2`. |\n",
        "| `issuperset(set2)` | Returns `True` if all elements of `set2` exist in the current set. |\n",
        "| `isdisjoint(set2)` | Returns `True` if there are no common elements between the sets. |\n",
        "| `symmetric_difference(set2)` | Returns a new set with elements in either set, but not in both. |\n",
        "| `symmetric_difference_update(set2)` | Updates the current set with elements from either set, but not both. |\n",
        "\n"
      ],
      "metadata": {
        "id": "TYthkThvU1as"
      }
    },
    {
      "cell_type": "code",
      "source": [
        "# Creating a set with values\n",
        "unique_numbers = {1, 2, 3, 4, 5}\n",
        "# Creating an empty set ({} creates a dictionary)\n",
        "empty_set = set()"
      ],
      "metadata": {
        "id": "49vfb6xWDu5A"
      },
      "execution_count": null,
      "outputs": []
    },
    {
      "cell_type": "markdown",
      "source": [
        "\n",
        "## Attributes of Set:\n",
        "#### ✅ Mutable: We can modify/change the original data\n",
        "#### ✅ Unordered: No indexing or slicing\n",
        "#### ✅ No Duplicates: Each element is unique"
      ],
      "metadata": {
        "id": "CGYFgdCiGTDR"
      }
    },
    {
      "cell_type": "markdown",
      "source": [
        "\n",
        "## 2️⃣ CRUD Operations: Create, Read, Update, Delete"
      ],
      "metadata": {
        "id": "b23EQWyPGZGX"
      }
    },
    {
      "cell_type": "markdown",
      "source": [
        "### CREATE\n",
        "#### Creating a set with values"
      ],
      "metadata": {
        "id": "0-Pd7tzeGiwl"
      }
    },
    {
      "cell_type": "code",
      "source": [
        "set_with_values = {10, 20, 30, 40, 50}\n",
        "print(\"Created Set:\", set_with_values)"
      ],
      "metadata": {
        "colab": {
          "base_uri": "https://localhost:8080/"
        },
        "id": "T5q1UjD9GfSD",
        "outputId": "b221e78e-90aa-47b9-f49b-bdc60c6c8541"
      },
      "execution_count": 1,
      "outputs": [
        {
          "output_type": "stream",
          "name": "stdout",
          "text": [
            "Created Set: {50, 20, 40, 10, 30}\n"
          ]
        }
      ]
    },
    {
      "cell_type": "markdown",
      "source": [
        "## READ:\n",
        "#### Accessing elements using a loop (since sets are unordered, elements appear randomly)"
      ],
      "metadata": {
        "id": "JMJoKgpiGpGc"
      }
    },
    {
      "cell_type": "code",
      "source": [
        "for item in set_with_values:\n",
        "    print(\"Set item:\", item)"
      ],
      "metadata": {
        "colab": {
          "base_uri": "https://localhost:8080/"
        },
        "id": "EHSgJ9bAGfPC",
        "outputId": "1050d8bc-ad9b-44a6-e6a1-2a437e461802"
      },
      "execution_count": 2,
      "outputs": [
        {
          "output_type": "stream",
          "name": "stdout",
          "text": [
            "Set item: 50\n",
            "Set item: 20\n",
            "Set item: 40\n",
            "Set item: 10\n",
            "Set item: 30\n"
          ]
        }
      ]
    },
    {
      "cell_type": "code",
      "source": [
        "# Checking membership in a set\n",
        "print(\"Is 20 in set?\", 20 in set_with_values)\n",
        "print(\"Is 100 in set?\", 100 in set_with_values)"
      ],
      "metadata": {
        "colab": {
          "base_uri": "https://localhost:8080/"
        },
        "id": "BSqQdyNtGfMf",
        "outputId": "83aa23a1-03bc-44b7-b95c-936a099e6523"
      },
      "execution_count": 3,
      "outputs": [
        {
          "output_type": "stream",
          "name": "stdout",
          "text": [
            "Is 20 in set? True\n",
            "Is 100 in set? False\n"
          ]
        }
      ]
    },
    {
      "cell_type": "markdown",
      "source": [
        "## UPDATE:\n",
        "#### Using add() method"
      ],
      "metadata": {
        "id": "8XY4dnRdHZwn"
      }
    },
    {
      "cell_type": "code",
      "source": [
        "# Adds 60 to the set\n",
        "set_with_values.add(60)\n",
        "print(\"After add:\", set_with_values)"
      ],
      "metadata": {
        "colab": {
          "base_uri": "https://localhost:8080/"
        },
        "id": "h3MbMTejGfKC",
        "outputId": "f1f01a30-0cc1-4fbb-df49-744c7a79cef0"
      },
      "execution_count": 4,
      "outputs": [
        {
          "output_type": "stream",
          "name": "stdout",
          "text": [
            "After add: {50, 20, 40, 10, 60, 30}\n"
          ]
        }
      ]
    },
    {
      "cell_type": "code",
      "source": [
        "# Using update() method (adds multiple elements)\n",
        "set_with_values.update([70, 80, 90, 10])  # Duplicates are ignored\n",
        "print(\"After update:\", set_with_values)"
      ],
      "metadata": {
        "colab": {
          "base_uri": "https://localhost:8080/"
        },
        "id": "6yb9NIMCHnPp",
        "outputId": "1fd70617-d6bd-432b-89f3-7e589dbdcb02"
      },
      "execution_count": 5,
      "outputs": [
        {
          "output_type": "stream",
          "name": "stdout",
          "text": [
            "After update: {70, 10, 80, 20, 90, 30, 40, 50, 60}\n"
          ]
        }
      ]
    },
    {
      "cell_type": "markdown",
      "source": [
        "### DELETE:\n",
        "#### Using remove() method (raises an error if element not found)"
      ],
      "metadata": {
        "id": "r_4OREpUHmdv"
      }
    },
    {
      "cell_type": "code",
      "source": [
        "set_with_values.remove(30)  # Removes 30 from the set\n",
        "print(\"After remove:\", set_with_values)"
      ],
      "metadata": {
        "colab": {
          "base_uri": "https://localhost:8080/"
        },
        "id": "1Q3xn-NYDuFV",
        "outputId": "9860b5e9-34b3-42e2-ca44-52bb6725d330"
      },
      "execution_count": 6,
      "outputs": [
        {
          "output_type": "stream",
          "name": "stdout",
          "text": [
            "After remove: {70, 10, 80, 20, 90, 40, 50, 60}\n"
          ]
        }
      ]
    },
    {
      "cell_type": "markdown",
      "source": [
        "#### Using discard() method (no error if element is not found)"
      ],
      "metadata": {
        "id": "GiQtfPlVH585"
      }
    },
    {
      "cell_type": "code",
      "source": [
        "set_with_values.discard(100)  # Tries to remove 100, but no error\n",
        "print(\"After discard:\", set_with_values)"
      ],
      "metadata": {
        "colab": {
          "base_uri": "https://localhost:8080/"
        },
        "id": "sLlpowC4H48x",
        "outputId": "3ad2d109-e769-4bf6-d416-b7fb7941aaba"
      },
      "execution_count": 7,
      "outputs": [
        {
          "output_type": "stream",
          "name": "stdout",
          "text": [
            "After discard: {70, 10, 80, 20, 90, 40, 50, 60}\n"
          ]
        }
      ]
    },
    {
      "cell_type": "markdown",
      "source": [
        "\n",
        "### Using pop() method (removes and returns a random element)\n"
      ],
      "metadata": {
        "id": "33wKDnY4IDRN"
      }
    },
    {
      "cell_type": "code",
      "source": [
        "popped_element = set_with_values.pop()\n",
        "print(\"Popped Element:\", popped_element)\n",
        "print(\"After pop:\", set_with_values)"
      ],
      "metadata": {
        "colab": {
          "base_uri": "https://localhost:8080/"
        },
        "id": "MNF3ng3HIDFK",
        "outputId": "91df1536-46ae-447c-d6d5-9a18fec0b2cc"
      },
      "execution_count": 8,
      "outputs": [
        {
          "output_type": "stream",
          "name": "stdout",
          "text": [
            "Popped Element: 70\n",
            "After pop: {10, 80, 20, 90, 40, 50, 60}\n"
          ]
        }
      ]
    },
    {
      "cell_type": "markdown",
      "source": [
        "#### Using `clear()` method (removes all elements)"
      ],
      "metadata": {
        "id": "YjIClEXuILhk"
      }
    },
    {
      "cell_type": "code",
      "source": [
        "set_with_values.clear()\n",
        "print(\"After clear:\", set_with_values)"
      ],
      "metadata": {
        "colab": {
          "base_uri": "https://localhost:8080/"
        },
        "id": "gkc_79RjIC6i",
        "outputId": "b72829ba-6984-40ff-bb71-f8176f9f13ee"
      },
      "execution_count": 9,
      "outputs": [
        {
          "output_type": "stream",
          "name": "stdout",
          "text": [
            "After clear: set()\n"
          ]
        }
      ]
    },
    {
      "cell_type": "markdown",
      "source": [
        "# 3️⃣ Set Methods with Examples:\n"
      ],
      "metadata": {
        "id": "9TVZPn4fIVMm"
      }
    },
    {
      "cell_type": "markdown",
      "source": [
        "\n",
        "## 1️⃣ intersection(): Returns common elements between two sets"
      ],
      "metadata": {
        "id": "WBQusBByIaTu"
      }
    },
    {
      "cell_type": "code",
      "source": [
        "set_a = {1, 2, 3, 4}\n",
        "set_b = {3, 4, 5, 6}\n",
        "print(\"Intersection:\", set_a.intersection(set_b))"
      ],
      "metadata": {
        "colab": {
          "base_uri": "https://localhost:8080/"
        },
        "id": "kTujoAKWIYle",
        "outputId": "d8af36a4-5bea-498d-841f-c22a4f4e188e"
      },
      "execution_count": 10,
      "outputs": [
        {
          "output_type": "stream",
          "name": "stdout",
          "text": [
            "Intersection: {3, 4}\n"
          ]
        }
      ]
    },
    {
      "cell_type": "markdown",
      "source": [
        "## 2️⃣ intersection_update(): Updates set with common elements"
      ],
      "metadata": {
        "id": "Q7uB4_CDIeWn"
      }
    },
    {
      "cell_type": "code",
      "source": [
        "set_a.intersection_update(set_b)\n",
        "print(\"After intersection_update:\", set_a)"
      ],
      "metadata": {
        "colab": {
          "base_uri": "https://localhost:8080/"
        },
        "id": "G39nbRUQIgte",
        "outputId": "3465031d-deee-47a5-f903-9d9d818f86dc"
      },
      "execution_count": 11,
      "outputs": [
        {
          "output_type": "stream",
          "name": "stdout",
          "text": [
            "After intersection_update: {3, 4}\n"
          ]
        }
      ]
    },
    {
      "cell_type": "markdown",
      "source": [
        "## 3️⃣ union(): Returns all unique elements from both sets\n"
      ],
      "metadata": {
        "id": "RmdLSvVQInqA"
      }
    },
    {
      "cell_type": "code",
      "source": [
        "set_c = {7, 8, 9}\n",
        "print(\"Union:\", set_b.union(set_c))"
      ],
      "metadata": {
        "colab": {
          "base_uri": "https://localhost:8080/"
        },
        "id": "CnFh4_sKIneP",
        "outputId": "601717be-dd48-444d-d755-72185673dfa6"
      },
      "execution_count": 12,
      "outputs": [
        {
          "output_type": "stream",
          "name": "stdout",
          "text": [
            "Union: {3, 4, 5, 6, 7, 8, 9}\n"
          ]
        }
      ]
    },
    {
      "cell_type": "markdown",
      "source": [
        "## 4️⃣ difference(): Returns elements in one set but not the other"
      ],
      "metadata": {
        "id": "COaZGuUBIyHq"
      }
    },
    {
      "cell_type": "code",
      "source": [
        "print(\"Difference:\", set_b.difference(set_c))"
      ],
      "metadata": {
        "colab": {
          "base_uri": "https://localhost:8080/"
        },
        "id": "cHlVqCC0InbU",
        "outputId": "f358a9dc-2d35-495c-eda3-baa0e3a9bcca"
      },
      "execution_count": 13,
      "outputs": [
        {
          "output_type": "stream",
          "name": "stdout",
          "text": [
            "Difference: {3, 4, 5, 6}\n"
          ]
        }
      ]
    },
    {
      "cell_type": "markdown",
      "source": [
        "## 5️⃣ difference_update(): Updates set by removing common elements\n"
      ],
      "metadata": {
        "id": "36wc9JFKI4tg"
      }
    },
    {
      "cell_type": "code",
      "source": [
        "set_b.difference_update(set_c)\n",
        "print(\"After difference_update:\", set_b)"
      ],
      "metadata": {
        "colab": {
          "base_uri": "https://localhost:8080/"
        },
        "id": "8iTGCCwTI4fV",
        "outputId": "1408b679-951f-4208-d51a-5bbf8aec9aa9"
      },
      "execution_count": 14,
      "outputs": [
        {
          "output_type": "stream",
          "name": "stdout",
          "text": [
            "After difference_update: {3, 4, 5, 6}\n"
          ]
        }
      ]
    },
    {
      "cell_type": "markdown",
      "source": [
        "\n",
        "## 6️⃣ symmetric_difference(): Returns elements not in both sets\n",
        "  "
      ],
      "metadata": {
        "id": "R89gmPHdI-G-"
      }
    },
    {
      "cell_type": "code",
      "source": [
        "set_x = {1, 2, 3, 4}\n",
        "set_y = {3, 4, 5, 6}\n",
        "print(\"Symmetric Difference:\", set_x.symmetric_difference(set_y))"
      ],
      "metadata": {
        "colab": {
          "base_uri": "https://localhost:8080/"
        },
        "id": "MQLPjZN8I4cZ",
        "outputId": "604b67cd-4809-4938-f521-63ea0424052b"
      },
      "execution_count": 15,
      "outputs": [
        {
          "output_type": "stream",
          "name": "stdout",
          "text": [
            "Symmetric Difference: {1, 2, 5, 6}\n"
          ]
        }
      ]
    },
    {
      "cell_type": "markdown",
      "source": [
        "\n",
        "## 7️⃣ symmetric_difference_update(): Updates set with symmetric difference\n"
      ],
      "metadata": {
        "id": "LVTmR0W_JC5j"
      }
    },
    {
      "cell_type": "code",
      "source": [
        "set_x.symmetric_difference_update(set_y)\n",
        "print(\"After symmetric_difference_update:\", set_x)"
      ],
      "metadata": {
        "colab": {
          "base_uri": "https://localhost:8080/"
        },
        "id": "fFwRH-zVJCsE",
        "outputId": "86b92035-9bac-4a52-f308-444865f507ad"
      },
      "execution_count": 16,
      "outputs": [
        {
          "output_type": "stream",
          "name": "stdout",
          "text": [
            "After symmetric_difference_update: {1, 2, 5, 6}\n"
          ]
        }
      ]
    },
    {
      "cell_type": "markdown",
      "source": [
        "\n",
        "## 8️⃣ isdisjoint(): Checks if two sets have no common elements\n"
      ],
      "metadata": {
        "id": "7xFsmtX9JG0B"
      }
    },
    {
      "cell_type": "code",
      "source": [
        "set_m = {10, 20, 30}\n",
        "set_n = {40, 50, 60}\n",
        "print(\"Is Disjoint:\", set_m.isdisjoint(set_n))"
      ],
      "metadata": {
        "colab": {
          "base_uri": "https://localhost:8080/"
        },
        "id": "4ABGzAiWJGpI",
        "outputId": "003a30c4-ad0e-45d5-ff3e-520c3ea5f76f"
      },
      "execution_count": 17,
      "outputs": [
        {
          "output_type": "stream",
          "name": "stdout",
          "text": [
            "Is Disjoint: True\n"
          ]
        }
      ]
    },
    {
      "cell_type": "markdown",
      "source": [
        "## 9️⃣ issubset(): Checks if a set is a subset of another\n"
      ],
      "metadata": {
        "id": "EctjWk3OJN6d"
      }
    },
    {
      "cell_type": "code",
      "source": [
        "set_p = {1, 2}\n",
        "set_q = {1, 2, 3, 4}\n",
        "print(\"Is Subset:\", set_p.issubset(set_q))"
      ],
      "metadata": {
        "colab": {
          "base_uri": "https://localhost:8080/"
        },
        "id": "kxbilpJLJCpj",
        "outputId": "22b9c181-902c-459d-8670-1ac7a2c8ebbf"
      },
      "execution_count": 18,
      "outputs": [
        {
          "output_type": "stream",
          "name": "stdout",
          "text": [
            "Is Subset: True\n"
          ]
        }
      ]
    },
    {
      "cell_type": "markdown",
      "source": [
        "## 🔟 issuperset(): Checks if a set is a superset of another\n"
      ],
      "metadata": {
        "id": "KQVB4AACJUgo"
      }
    },
    {
      "cell_type": "code",
      "source": [
        "print(\"Is Superset:\", set_q.issuperset(set_p))"
      ],
      "metadata": {
        "id": "ngfTw-87JCmy"
      },
      "execution_count": null,
      "outputs": []
    },
    {
      "cell_type": "markdown",
      "source": [
        "## 1️⃣1️⃣ Copying a set"
      ],
      "metadata": {
        "id": "U0Two3-gJW4k"
      }
    },
    {
      "cell_type": "code",
      "source": [
        "original_set = {1, 2, 3}\n",
        "copied_set = original_set.copy()\n",
        "print(\"Copied Set:\", copied_set)"
      ],
      "metadata": {
        "colab": {
          "base_uri": "https://localhost:8080/"
        },
        "id": "vD4SSYEiJZux",
        "outputId": "adafda10-a373-4a16-edda-c7ab608d2056"
      },
      "execution_count": 19,
      "outputs": [
        {
          "output_type": "stream",
          "name": "stdout",
          "text": [
            "Copied Set: {1, 2, 3}\n"
          ]
        }
      ]
    },
    {
      "cell_type": "markdown",
      "source": [
        "## 1️⃣2️⃣ Frozen Set: An immutable set\n"
      ],
      "metadata": {
        "id": "c9aMn0P0JZXx"
      }
    },
    {
      "cell_type": "code",
      "source": [
        "frozen_set = frozenset({1, 2, 3, 4})\n",
        "print(\"Frozen Set:\", frozen_set)\n",
        "#frozen_set.add(5)  # This will raise an error as frozensets are immutable"
      ],
      "metadata": {
        "colab": {
          "base_uri": "https://localhost:8080/"
        },
        "id": "8e-icTGkJhdy",
        "outputId": "64cf317f-5e5d-401b-dddd-6eadc77beee1"
      },
      "execution_count": 22,
      "outputs": [
        {
          "output_type": "stream",
          "name": "stdout",
          "text": [
            "Frozen Set: frozenset({1, 2, 3, 4})\n"
          ]
        }
      ]
    },
    {
      "cell_type": "markdown",
      "source": [
        "\n",
        "## 1️⃣3️⃣ Nested Sets (Not Allowed Directly, but Can Use frozenset)\n"
      ],
      "metadata": {
        "id": "ImkCQ9BiJlw-"
      }
    },
    {
      "cell_type": "code",
      "source": [
        "nested_set = {frozenset({1, 2}), frozenset({3, 4})}\n",
        "print(\"Nested Set:\", nested_set)"
      ],
      "metadata": {
        "colab": {
          "base_uri": "https://localhost:8080/"
        },
        "id": "kYa2rySLJha-",
        "outputId": "1009c821-c230-445d-a8d0-b9d9ea3b7081"
      },
      "execution_count": 23,
      "outputs": [
        {
          "output_type": "stream",
          "name": "stdout",
          "text": [
            "Nested Set: {frozenset({3, 4}), frozenset({1, 2})}\n"
          ]
        }
      ]
    },
    {
      "cell_type": "markdown",
      "source": [
        "\n",
        "## 1️⃣4️⃣ Finding Maximum and Minimum values in a set\n",
        "\n"
      ],
      "metadata": {
        "id": "m7H1jVGDJriG"
      }
    },
    {
      "cell_type": "code",
      "source": [
        "num_set = {10, 20, 30, 40, 50}\n",
        "print(\"Max Value:\", max(num_set))\n",
        "print(\"Min Value:\", min(num_set))"
      ],
      "metadata": {
        "colab": {
          "base_uri": "https://localhost:8080/"
        },
        "id": "75MsUao2JrO5",
        "outputId": "7873a0db-299a-485c-9c3b-734aeea71b90"
      },
      "execution_count": 24,
      "outputs": [
        {
          "output_type": "stream",
          "name": "stdout",
          "text": [
            "Max Value: 50\n",
            "Min Value: 10\n"
          ]
        }
      ]
    },
    {
      "cell_type": "markdown",
      "source": [
        "## 1️⃣5️⃣ Converting a list to a set (Removing Duplicates)\n"
      ],
      "metadata": {
        "id": "hyc-ruzzJv-M"
      }
    },
    {
      "cell_type": "code",
      "source": [
        "duplicate_list = [1, 2, 2, 3, 4, 4, 5]\n",
        "unique_set = set(duplicate_list)\n",
        "print(\"Unique Set from List:\", unique_set)"
      ],
      "metadata": {
        "colab": {
          "base_uri": "https://localhost:8080/"
        },
        "id": "ECwwvsJ6JrMJ",
        "outputId": "34771056-bf84-4c3c-c521-694c1b2d0ba5"
      },
      "execution_count": 25,
      "outputs": [
        {
          "output_type": "stream",
          "name": "stdout",
          "text": [
            "Unique Set from List: {1, 2, 3, 4, 5}\n"
          ]
        }
      ]
    },
    {
      "cell_type": "markdown",
      "source": [
        "## 1️⃣6️⃣ Set Comprehension: Creating a set using a loop\n",
        "\n"
      ],
      "metadata": {
        "id": "Z9RsaI-YJ4DW"
      }
    },
    {
      "cell_type": "code",
      "source": [
        "squared_numbers = {x**2 for x in range(1, 6)}\n",
        "print(\"Squared Numbers Set:\", squared_numbers)"
      ],
      "metadata": {
        "colab": {
          "base_uri": "https://localhost:8080/"
        },
        "id": "_GRYG8MWJ34S",
        "outputId": "030f734d-24b0-49fd-fcf7-b0fd7fc2d50f"
      },
      "execution_count": 26,
      "outputs": [
        {
          "output_type": "stream",
          "name": "stdout",
          "text": [
            "Squared Numbers Set: {1, 4, 9, 16, 25}\n"
          ]
        }
      ]
    },
    {
      "cell_type": "markdown",
      "source": [
        "## 1️⃣7️⃣ Finding Common Elements Between Multiple Sets\n"
      ],
      "metadata": {
        "id": "2DxQG2ZnKCRq"
      }
    },
    {
      "cell_type": "code",
      "source": [
        "set_1 = {1, 2, 3, 4, 5}\n",
        "set_2 = {3, 4, 5, 6, 7}\n",
        "set_3 = {4, 5, 6, 7, 8}\n",
        "common_elements = set_1 & set_2 & set_3\n",
        "print(\"Common Elements in all sets:\", common_elements)"
      ],
      "metadata": {
        "colab": {
          "base_uri": "https://localhost:8080/"
        },
        "id": "960lnX-eJrJc",
        "outputId": "59a9819c-04c0-4775-9222-f4b23d12721b"
      },
      "execution_count": 27,
      "outputs": [
        {
          "output_type": "stream",
          "name": "stdout",
          "text": [
            "Common Elements in all sets: {4, 5}\n"
          ]
        }
      ]
    },
    {
      "cell_type": "markdown",
      "source": [
        "## 1️⃣8️⃣ Advanced: Creating a Set of Tuples\n"
      ],
      "metadata": {
        "id": "OEB1Os5_KIJX"
      }
    },
    {
      "cell_type": "code",
      "source": [
        "set_of_tuples = {(1, 2), (3, 4), (5, 6)}\n",
        "print(\"Set of Tuples:\", set_of_tuples)\n"
      ],
      "metadata": {
        "colab": {
          "base_uri": "https://localhost:8080/"
        },
        "id": "PLVdJZ4MKH55",
        "outputId": "eb86bfdf-0021-41bb-adca-a9be62639636"
      },
      "execution_count": 28,
      "outputs": [
        {
          "output_type": "stream",
          "name": "stdout",
          "text": [
            "Set of Tuples: {(1, 2), (3, 4), (5, 6)}\n"
          ]
        }
      ]
    },
    {
      "cell_type": "markdown",
      "source": [
        "\n",
        "## 1️⃣9️⃣ Checking if Any Element in a Set Meets a Condition"
      ],
      "metadata": {
        "id": "gaUlemDuKOrR"
      }
    },
    {
      "cell_type": "code",
      "source": [
        "numbers = {10, 20, 30, 40}\n",
        "print(\"Any number > 25?\", any(num > 25 for num in numbers))\n",
        "print(\"All numbers > 5?\", all(num > 5 for num in numbers))\n"
      ],
      "metadata": {
        "id": "MKzbjdDcnXLD",
        "colab": {
          "base_uri": "https://localhost:8080/"
        },
        "outputId": "58a6923e-6df3-4a7b-a047-44bd64607f67"
      },
      "execution_count": 29,
      "outputs": [
        {
          "output_type": "stream",
          "name": "stdout",
          "text": [
            "Any number > 25? True\n",
            "All numbers > 5? True\n"
          ]
        }
      ]
    },
    {
      "cell_type": "markdown",
      "source": [
        "```\n",
        "---\n",
        "```"
      ],
      "metadata": {
        "id": "3HJyFQVJU41J"
      }
    },
    {
      "cell_type": "markdown",
      "source": [
        "# Dictionay in Python\n",
        "\n",
        "# Complete Guide to Dictionary in Python\n",
        "\n",
        "## **1️⃣ What is a Dictionary?**\n",
        "A dictionary is a collection of key-value pairs where each key is unique, and values can be of any data type.\n",
        "\n",
        "- **Keys**: Must be immutable (e.g., string, number, tuple).\n",
        "- **Values**: Can be any data type.\n",
        "- **Order**: Preserved (Python 3.7+)."
      ],
      "metadata": {
        "id": "nQJmMJS0PQOv"
      }
    },
    {
      "cell_type": "markdown",
      "source": [
        "## **🔥 Summary Table of Dictionary Methods**\n",
        "| Method | Description |\n",
        "|--------|-------------|\n",
        "| `dict.keys()` | Returns all keys in dictionary |\n",
        "| `dict.values()` | Returns all values in dictionary |\n",
        "| `dict.items()` | Returns key-value pairs |\n",
        "| `dict.get(key, default)` | Retrieves value safely |\n",
        "| `dict.update(dict2)` | Merges two dictionaries |\n",
        "| `dict.setdefault(key, default)` | Inserts key if missing |\n",
        "| `dict.pop(key, default)` | Removes key and returns value |\n",
        "| `dict.popitem()` | Removes last key-value pair |\n",
        "| `dict.clear()` | Empties the dictionary |\n",
        "| `dict.fromkeys(keys, value)` | Creates dictionary from keys |\n",
        "| `len(dict)` | Returns number of key-value pairs |\n"
      ],
      "metadata": {
        "id": "BWNxhmd9Td-I"
      }
    },
    {
      "cell_type": "code",
      "source": [
        "student = {\n",
        "    \"name\": \"vivek\",\n",
        "    \"age\": 21,\n",
        "    \"major\": \"Computer Science\"\n",
        "}\n",
        "print(student)"
      ],
      "metadata": {
        "colab": {
          "base_uri": "https://localhost:8080/"
        },
        "id": "BwlVKS86PeBK",
        "outputId": "08e446a1-5631-461f-e339-3992a1613c00"
      },
      "execution_count": 30,
      "outputs": [
        {
          "output_type": "stream",
          "name": "stdout",
          "text": [
            "{'name': 'vivek', 'age': 21, 'major': 'Computer Science'}\n"
          ]
        }
      ]
    },
    {
      "cell_type": "code",
      "source": [
        "student"
      ],
      "metadata": {
        "colab": {
          "base_uri": "https://localhost:8080/"
        },
        "id": "Kxe3TOCZPfmE",
        "outputId": "37d90463-ab87-47c7-9c34-cdd2fe16905b"
      },
      "execution_count": 31,
      "outputs": [
        {
          "output_type": "execute_result",
          "data": {
            "text/plain": [
              "{'name': 'vivek', 'age': 21, 'major': 'Computer Science'}"
            ]
          },
          "metadata": {},
          "execution_count": 31
        }
      ]
    },
    {
      "cell_type": "markdown",
      "source": [
        "\n",
        "## **2️⃣ CRUD Operations: Create, Read, Update, Delete**\n",
        "\n",
        "### **🟢 CREATE a Dictionary**"
      ],
      "metadata": {
        "id": "pTfTAEFNPihm"
      }
    },
    {
      "cell_type": "code",
      "source": [
        "# Empty dictionary\n",
        "empty_dict = {}\n",
        "empty_dict2 = dict()"
      ],
      "metadata": {
        "id": "AdYG9OZHP34y"
      },
      "execution_count": 58,
      "outputs": []
    },
    {
      "cell_type": "code",
      "source": [
        "# Dictionary with values\n",
        "student = {\"name\": \"vivek\", \"age\": 21, \"major\": \"CS\"}\n",
        "print(student)"
      ],
      "metadata": {
        "colab": {
          "base_uri": "https://localhost:8080/"
        },
        "id": "kvczPEiIPwVC",
        "outputId": "dabb8642-8dd0-45b2-a4b4-2b3d8878f4e7"
      },
      "execution_count": 59,
      "outputs": [
        {
          "output_type": "stream",
          "name": "stdout",
          "text": [
            "{'name': 'vivek', 'age': 21, 'major': 'CS'}\n"
          ]
        }
      ]
    },
    {
      "cell_type": "code",
      "source": [
        "# Using dict() function\n",
        "person = dict(name=\"Akshay\", age=25, city=\"HYD\")"
      ],
      "metadata": {
        "id": "m1ezDVfGP9KD"
      },
      "execution_count": 60,
      "outputs": []
    },
    {
      "cell_type": "code",
      "source": [
        "# Creating dictionary using fromkeys()\n",
        "keys = ['name', 'age', 'gender']\n",
        "default_dict = dict.fromkeys(keys,\"not specified\")\n",
        "default_dict"
      ],
      "metadata": {
        "colab": {
          "base_uri": "https://localhost:8080/"
        },
        "id": "ZCqNcFMaQAJM",
        "outputId": "7f28336c-90bf-4cc8-9fe6-8a168f814315"
      },
      "execution_count": 61,
      "outputs": [
        {
          "output_type": "execute_result",
          "data": {
            "text/plain": [
              "{'name': 'not specified', 'age': 'not specified', 'gender': 'not specified'}"
            ]
          },
          "metadata": {},
          "execution_count": 61
        }
      ]
    },
    {
      "cell_type": "markdown",
      "source": [
        "### **📗 READ from Dictionary**\n",
        "#### **1️⃣ Access Value using Key**\n",
        "\n",
        "✅ `get()` is safer than direct access as it avoids errors if the key doesn't exist.\n"
      ],
      "metadata": {
        "id": "5GbDAdgRQzee"
      }
    },
    {
      "cell_type": "code",
      "source": [
        "\n",
        "print(student[\"name\"])\n",
        "print(student.get(\"age\"))"
      ],
      "metadata": {
        "colab": {
          "base_uri": "https://localhost:8080/"
        },
        "id": "wSo7ji-FQ2hh",
        "outputId": "a303fcee-e76b-42d0-f19e-d50c8c62fd44"
      },
      "execution_count": 62,
      "outputs": [
        {
          "output_type": "stream",
          "name": "stdout",
          "text": [
            "vivek\n",
            "21\n"
          ]
        }
      ]
    },
    {
      "cell_type": "markdown",
      "source": [
        "#### **2️⃣ Using `keys()`, `values()`, `items()`**"
      ],
      "metadata": {
        "id": "LcnOrm7nQ4AW"
      }
    },
    {
      "cell_type": "code",
      "source": [
        "print(\"Keys:\\n\",student.keys())\n",
        "print(\"Values:\\n\",student.values())\n",
        "print(\"Items:\\n\",student.items())"
      ],
      "metadata": {
        "colab": {
          "base_uri": "https://localhost:8080/"
        },
        "id": "w0QvIXsBRCXS",
        "outputId": "e1944173-4ce1-4d28-e4ec-245da18279aa"
      },
      "execution_count": 63,
      "outputs": [
        {
          "output_type": "stream",
          "name": "stdout",
          "text": [
            "Keys:\n",
            " dict_keys(['name', 'age', 'major'])\n",
            "Values:\n",
            " dict_values(['vivek', 21, 'CS'])\n",
            "Items:\n",
            " dict_items([('name', 'vivek'), ('age', 21), ('major', 'CS')])\n"
          ]
        }
      ]
    },
    {
      "cell_type": "markdown",
      "source": [
        "\n",
        "\n",
        "#### **3️⃣ Loop Through Dictionary**"
      ],
      "metadata": {
        "id": "mKK_ivt0RZUz"
      }
    },
    {
      "cell_type": "code",
      "source": [
        "for key in student:\n",
        "    print(key, \":\", student[key])"
      ],
      "metadata": {
        "colab": {
          "base_uri": "https://localhost:8080/"
        },
        "id": "lWdh92DuRb1E",
        "outputId": "a45613fc-3b32-4630-b198-9a45b54357d5"
      },
      "execution_count": 64,
      "outputs": [
        {
          "output_type": "stream",
          "name": "stdout",
          "text": [
            "name : vivek\n",
            "age : 21\n",
            "major : CS\n"
          ]
        }
      ]
    },
    {
      "cell_type": "code",
      "source": [
        "# Loop through key-value pairs\n",
        "for key, value in student.items():\n",
        "    print(f\"{key}: {value}\")"
      ],
      "metadata": {
        "colab": {
          "base_uri": "https://localhost:8080/"
        },
        "id": "mN3focypRg2y",
        "outputId": "926a41df-8b12-4509-a45f-03eafe330a83"
      },
      "execution_count": 65,
      "outputs": [
        {
          "output_type": "stream",
          "name": "stdout",
          "text": [
            "name: vivek\n",
            "age: 21\n",
            "major: CS\n"
          ]
        }
      ]
    },
    {
      "cell_type": "markdown",
      "source": [
        "### **📝 UPDATE Dictionary**\n",
        "####  Updating a single key-value pair\n"
      ],
      "metadata": {
        "id": "NLpEskb_RlMC"
      }
    },
    {
      "cell_type": "code",
      "source": [
        "student[\"age\"] = 22\n",
        "print(\"updated student:\\n\",student)"
      ],
      "metadata": {
        "colab": {
          "base_uri": "https://localhost:8080/"
        },
        "id": "ZIiK8HFORmb3",
        "outputId": "8c91c005-e979-4ede-d1cc-053ddcc87114"
      },
      "execution_count": 66,
      "outputs": [
        {
          "output_type": "stream",
          "name": "stdout",
          "text": [
            "updated student:\n",
            " {'name': 'vivek', 'age': 22, 'major': 'CS'}\n"
          ]
        }
      ]
    },
    {
      "cell_type": "markdown",
      "source": [
        "### Using update() to add multiple values"
      ],
      "metadata": {
        "id": "lPhIGWhgR00T"
      }
    },
    {
      "cell_type": "code",
      "source": [
        "student.update({\"city\": \"Mahashtra\", \"GPA\": 3.9})\n",
        "print(student)"
      ],
      "metadata": {
        "colab": {
          "base_uri": "https://localhost:8080/"
        },
        "id": "SvMHfZfrRzv9",
        "outputId": "af389a50-a6a6-42d0-9d90-23c4416dbe50"
      },
      "execution_count": 67,
      "outputs": [
        {
          "output_type": "stream",
          "name": "stdout",
          "text": [
            "{'name': 'vivek', 'age': 22, 'major': 'CS', 'city': 'Mahashtra', 'GPA': 3.9}\n"
          ]
        }
      ]
    },
    {
      "cell_type": "markdown",
      "source": [
        "#### **Using `setdefault()` (Insert if key is missing)**"
      ],
      "metadata": {
        "id": "rSZ1uhaESC7s"
      }
    },
    {
      "cell_type": "code",
      "source": [
        "student.setdefault(\"hobby\", \"Reading\")\n",
        "print(student)"
      ],
      "metadata": {
        "colab": {
          "base_uri": "https://localhost:8080/"
        },
        "id": "-UjtHqaCSEvT",
        "outputId": "dc133ce0-04d8-4e1a-8611-8c3c0543297f"
      },
      "execution_count": 68,
      "outputs": [
        {
          "output_type": "stream",
          "name": "stdout",
          "text": [
            "{'name': 'vivek', 'age': 22, 'major': 'CS', 'city': 'Mahashtra', 'GPA': 3.9, 'hobby': 'Reading'}\n"
          ]
        }
      ]
    },
    {
      "cell_type": "markdown",
      "source": [
        "### **🛑 DELETE from Dictionary**\n"
      ],
      "metadata": {
        "id": "3qmth6DjSKE6"
      }
    },
    {
      "cell_type": "code",
      "source": [
        "# Using del keyword\n",
        "del student[\"major\"]\n",
        "print(student)"
      ],
      "metadata": {
        "colab": {
          "base_uri": "https://localhost:8080/"
        },
        "id": "yuJLhRZASMUi",
        "outputId": "9ba2b8ec-9c8c-4853-f53c-a3e0da096f63"
      },
      "execution_count": 69,
      "outputs": [
        {
          "output_type": "stream",
          "name": "stdout",
          "text": [
            "{'name': 'vivek', 'age': 22, 'city': 'Mahashtra', 'GPA': 3.9, 'hobby': 'Reading'}\n"
          ]
        }
      ]
    },
    {
      "cell_type": "code",
      "source": [
        "# Using pop() (returns deleted value)\n",
        "age = student.pop(\"age\")\n",
        "print(age)  # Output: 22"
      ],
      "metadata": {
        "colab": {
          "base_uri": "https://localhost:8080/"
        },
        "id": "5-KTG8nISU--",
        "outputId": "c358708c-ef09-4cf8-9df8-cd1c39602b15"
      },
      "execution_count": 70,
      "outputs": [
        {
          "output_type": "stream",
          "name": "stdout",
          "text": [
            "22\n"
          ]
        }
      ]
    },
    {
      "cell_type": "code",
      "source": [
        "# Using popitem() (removes last item in Python 3.7+)\n",
        "last_item = student.popitem()\n",
        "print(last_item)"
      ],
      "metadata": {
        "colab": {
          "base_uri": "https://localhost:8080/"
        },
        "id": "lqEl51NQSXhU",
        "outputId": "4ea63121-f884-4fa2-80c6-55232d7f1bff"
      },
      "execution_count": 72,
      "outputs": [
        {
          "output_type": "stream",
          "name": "stdout",
          "text": [
            "('hobby', 'Reading')\n"
          ]
        }
      ]
    },
    {
      "cell_type": "code",
      "source": [
        "# Using clear() (removes all elements)\n",
        "student.clear()\n",
        "print(student)"
      ],
      "metadata": {
        "colab": {
          "base_uri": "https://localhost:8080/"
        },
        "id": "bibCJrhDScEG",
        "outputId": "68a2ccc4-80f0-48b8-c8fc-a63ab4ba22de"
      },
      "execution_count": 73,
      "outputs": [
        {
          "output_type": "stream",
          "name": "stdout",
          "text": [
            "{}\n"
          ]
        }
      ]
    },
    {
      "cell_type": "markdown",
      "source": [
        "## **3️⃣ Advanced Dictionary Operations**"
      ],
      "metadata": {
        "id": "wJVBYcvzSf8f"
      }
    },
    {
      "cell_type": "markdown",
      "source": [
        "### **📌 Nested Dictionary (Dictionary inside Dictionary)**\n"
      ],
      "metadata": {
        "id": "N7fV7fFSShxM"
      }
    },
    {
      "cell_type": "code",
      "source": [
        "company = {\n",
        "    \"employee1\": {\"name\": \"vivek\", \"age\": 26},\n",
        "    \"employee2\": {\"name\": \"Charan\", \"age\": 25}\n",
        "}\n",
        "print(company[\"employee1\"][\"name\"])"
      ],
      "metadata": {
        "colab": {
          "base_uri": "https://localhost:8080/"
        },
        "id": "P6DNpDSwSkFo",
        "outputId": "65591d80-b7f5-4bb0-9e42-907258f6b210"
      },
      "execution_count": 74,
      "outputs": [
        {
          "output_type": "stream",
          "name": "stdout",
          "text": [
            "vivek\n"
          ]
        }
      ]
    },
    {
      "cell_type": "markdown",
      "source": [
        "### **📌 Dictionary Comprehension (Create Dictionary Dynamically)**\n"
      ],
      "metadata": {
        "id": "_DC8iepASqEO"
      }
    },
    {
      "cell_type": "code",
      "source": [
        "squares = {x: x**2 for x in range(1, 6)}\n",
        "print(squares)"
      ],
      "metadata": {
        "colab": {
          "base_uri": "https://localhost:8080/"
        },
        "id": "gLVOb8NaSr7e",
        "outputId": "8454953a-0ca4-4833-f757-ae7982f9a04e"
      },
      "execution_count": 75,
      "outputs": [
        {
          "output_type": "stream",
          "name": "stdout",
          "text": [
            "{1: 1, 2: 4, 3: 9, 4: 16, 5: 25}\n"
          ]
        }
      ]
    },
    {
      "cell_type": "markdown",
      "source": [
        "### **📌 Merging Two Dictionaries (`|` operator in Python 3.9+)**\n"
      ],
      "metadata": {
        "id": "ZPyAPG3rSutv"
      }
    },
    {
      "cell_type": "code",
      "source": [
        "dict1 = {\"a\": 1, \"b\": 2}\n",
        "dict2 = {\"c\": 3, \"d\": 4}\n",
        "merged_dict = dict1 | dict2\n",
        "print(merged_dict)"
      ],
      "metadata": {
        "colab": {
          "base_uri": "https://localhost:8080/"
        },
        "id": "FBoxjp-ESwjg",
        "outputId": "cc1ee6cd-f651-45ae-8a79-8fb3fac890d2"
      },
      "execution_count": 76,
      "outputs": [
        {
          "output_type": "stream",
          "name": "stdout",
          "text": [
            "{'a': 1, 'b': 2, 'c': 3, 'd': 4}\n"
          ]
        }
      ]
    },
    {
      "cell_type": "markdown",
      "source": [
        "## **4️⃣ Dictionary Coding Challenges**\n",
        "### **✅ Count Word Frequency in a Sentence**"
      ],
      "metadata": {
        "id": "D68b2qunSzXs"
      }
    },
    {
      "cell_type": "code",
      "source": [
        "\n",
        "sentence = \"data science is amazing and data is powerful\"\n",
        "word_count = {}\n",
        "words = sentence.split()\n",
        "for word in words:\n",
        "    word_count[word] = word_count.get(word, 0) + 1\n",
        "print(word_count)"
      ],
      "metadata": {
        "colab": {
          "base_uri": "https://localhost:8080/"
        },
        "id": "68aRI0ZFSzNF",
        "outputId": "75e119a6-198a-45bf-b761-0db581d47ec9"
      },
      "execution_count": 78,
      "outputs": [
        {
          "output_type": "stream",
          "name": "stdout",
          "text": [
            "{'data': 2, 'science': 1, 'is': 2, 'amazing': 1, 'and': 1, 'powerful': 1}\n"
          ]
        }
      ]
    },
    {
      "cell_type": "markdown",
      "source": [
        "### **✅ Swap Keys and Values**\n"
      ],
      "metadata": {
        "id": "2TWtxXVGS_X7"
      }
    },
    {
      "cell_type": "code",
      "source": [
        "original_dict = {\"a\": 1, \"b\": 2, \"c\": 3}\n",
        "swapped_dict = {v: k for k, v in original_dict.items()}\n",
        "print(swapped_dict)"
      ],
      "metadata": {
        "colab": {
          "base_uri": "https://localhost:8080/"
        },
        "id": "TSRzbitETBEB",
        "outputId": "b90af47a-5924-4546-881d-31a1534ffdd9"
      },
      "execution_count": 79,
      "outputs": [
        {
          "output_type": "stream",
          "name": "stdout",
          "text": [
            "{1: 'a', 2: 'b', 3: 'c'}\n"
          ]
        }
      ]
    },
    {
      "cell_type": "markdown",
      "source": [
        "### **✅ Find Common Keys in Two Dictionaries**"
      ],
      "metadata": {
        "id": "fA7K0ggdTGEv"
      }
    },
    {
      "cell_type": "code",
      "source": [
        "dict1 = {\"a\": 1, \"b\": 2, \"c\": 3}\n",
        "dict2 = {\"b\": 5, \"c\": 10, \"d\": 15}\n",
        "common_keys = dict1.keys() & dict2.keys()\n",
        "print(common_keys)"
      ],
      "metadata": {
        "colab": {
          "base_uri": "https://localhost:8080/"
        },
        "id": "l_j_QIdwTBAu",
        "outputId": "bff60415-83cd-45cd-c760-543e8a1a8323"
      },
      "execution_count": 81,
      "outputs": [
        {
          "output_type": "stream",
          "name": "stdout",
          "text": [
            "{'b', 'c'}\n"
          ]
        }
      ]
    },
    {
      "cell_type": "markdown",
      "source": [
        "### **✅ Convert List of Tuples to Dictionary**\n"
      ],
      "metadata": {
        "id": "U-BtK-1-TL9e"
      }
    },
    {
      "cell_type": "code",
      "source": [
        "data = [(\"name\", \"Alice\"), (\"age\", 25), (\"city\", \"NY\")]\n",
        "dictionary = dict(data)\n",
        "print(dictionary)"
      ],
      "metadata": {
        "colab": {
          "base_uri": "https://localhost:8080/"
        },
        "id": "xcSpRnxrTNi3",
        "outputId": "c08aaab2-40da-4382-eac2-9c260319bb2f"
      },
      "execution_count": 82,
      "outputs": [
        {
          "output_type": "stream",
          "name": "stdout",
          "text": [
            "{'name': 'Alice', 'age': 25, 'city': 'NY'}\n"
          ]
        }
      ]
    },
    {
      "cell_type": "markdown",
      "source": [
        "# Difference Between List, Tuple, Set, and Dictionary\n",
        "\n",
        "| Feature        | List | Tuple | Set | Dictionary |\n",
        "|---------------|------|-------|-----|------------|\n",
        "| **Definition** | Ordered, mutable collection of elements. | Ordered, immutable collection of elements. | Unordered collection of unique elements. | Unordered collection of key-value pairs. |\n",
        "| **Mutable?** | ✅ Yes (Can be changed) | ❌ No (Immutable) | ✅ Yes (Can be changed) | ✅ Yes (Keys are immutable, values can change) |\n",
        "| **Duplicates Allowed?** | ✅ Yes | ✅ Yes | ❌ No | ❌ No (Keys must be unique) |\n",
        "| **Order Maintained?** | ✅ Yes (Ordered) | ✅ Yes (Ordered) | ❌ No (Unordered) | ✅ Yes (Python 3.7+ maintains order) |\n",
        "| **Indexing & Slicing?** | ✅ Yes | ✅ Yes | ❌ No | ❌ No (Uses keys instead) |\n",
        "| **Methods Available** | Many (append, pop, remove, sort, etc.) | Few (count, index) | Set operations (union, intersection, difference, etc.) | Key-based operations (keys, values, items, etc.) |\n",
        "| **Performance** | Slower than tuples | Faster than lists | Fast for membership tests | Fast for lookups using keys |\n",
        "| **Use Case** | When you need an ordered, changeable collection | When you need an ordered, unchangeable collection | When you need a collection of unique elements | When you need key-value pairs for fast lookups |\n",
        "\n"
      ],
      "metadata": {
        "id": "7jwrLofEVStI"
      }
    },
    {
      "cell_type": "markdown",
      "source": [
        "```\n",
        "\n",
        "---\n",
        "\n",
        "```"
      ],
      "metadata": {
        "id": "9faTiN2YVU6_"
      }
    },
    {
      "cell_type": "markdown",
      "source": [
        "# **Flow Control**\n",
        "\n",
        "Flow control in Python allows you to control the execution flow of a program based on certain conditions. Python provides various constructs for flow control, including conditional statements and loops. These control structures enable you to make decisions and execute specific code blocks under different conditions.\n",
        "\n",
        "### Control Flow Statements\n",
        "\n",
        "The flow control statements are divided into:\n",
        "\n",
        "1. **Conditional Statements**\n",
        "   - `if` statement\n",
        "   - `if-else` statement\n",
        "   - `if-elif-else` statement\n",
        "\n",
        "2. **Iterative Statements (Loops)**\n",
        "   - `for` loop\n",
        "   - `while` loop\n",
        "\n",
        "3. **Transfer Statements**\n",
        "   - `break` statement\n",
        "   - `continue` statement\n",
        "   - `pass` statement\n"
      ],
      "metadata": {
        "id": "tGMkmfkvWDsn"
      }
    },
    {
      "cell_type": "markdown",
      "source": [
        "![Screenshot 2025-03-11 232232.png](data:image/png;base64,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)"
      ],
      "metadata": {
        "id": "TIyCGIADVqXI"
      }
    },
    {
      "cell_type": "markdown",
      "source": [
        "### 1. Conditional Statements\n",
        "Conditional statements allow the execution of certain blocks of code based on conditions.\n",
        "\n",
        "#### **if statement**\n",
        "Executes a block of code if the condition evaluates to `True`."
      ],
      "metadata": {
        "id": "gOII4wpgW8Qx"
      }
    },
    {
      "cell_type": "code",
      "source": [
        "x = 10\n",
        "if x > 5:\n",
        "    print(\"x is greater than 5\")"
      ],
      "metadata": {
        "colab": {
          "base_uri": "https://localhost:8080/"
        },
        "id": "vqcUY6PrXBSU",
        "outputId": "9df4fb99-d639-42e6-99d6-d5d42675fc3d"
      },
      "execution_count": 83,
      "outputs": [
        {
          "output_type": "stream",
          "name": "stdout",
          "text": [
            "x is greater than 5\n"
          ]
        }
      ]
    },
    {
      "cell_type": "markdown",
      "source": [
        "### Example 2: Checking even number"
      ],
      "metadata": {
        "id": "DjDk1x5fXD7L"
      }
    },
    {
      "cell_type": "code",
      "source": [
        "num = 8\n",
        "if num % 2 == 0:\n",
        "    print(\"Even number\")"
      ],
      "metadata": {
        "colab": {
          "base_uri": "https://localhost:8080/"
        },
        "id": "6axz4GDHXG4D",
        "outputId": "ac9c1a94-ba65-49a2-d4bf-e46a656fb996"
      },
      "execution_count": 84,
      "outputs": [
        {
          "output_type": "stream",
          "name": "stdout",
          "text": [
            "Even number\n"
          ]
        }
      ]
    },
    {
      "cell_type": "markdown",
      "source": [
        "### Example 3: Checking string presence\n"
      ],
      "metadata": {
        "id": "oAyKBRPqXKAR"
      }
    },
    {
      "cell_type": "code",
      "source": [
        "word = \"Python\"\n",
        "if \"y\" in word:\n",
        "    print(\"'y' is in Python\")"
      ],
      "metadata": {
        "colab": {
          "base_uri": "https://localhost:8080/"
        },
        "id": "V96OWsyuXJvs",
        "outputId": "0bed53da-acc0-4949-d589-e00e19a4f2f6"
      },
      "execution_count": 85,
      "outputs": [
        {
          "output_type": "stream",
          "name": "stdout",
          "text": [
            "'y' is in Python\n"
          ]
        }
      ]
    },
    {
      "cell_type": "markdown",
      "source": [
        "### Example 4: Checking positive number\n"
      ],
      "metadata": {
        "id": "XR79qKFqXNs8"
      }
    },
    {
      "cell_type": "code",
      "source": [
        "num = 3\n",
        "if num > 0:\n",
        "    print(\"Positive number\")"
      ],
      "metadata": {
        "colab": {
          "base_uri": "https://localhost:8080/"
        },
        "id": "5k90GYmFXJsN",
        "outputId": "84989ea4-66e2-4d15-f386-d5a3a9c596d5"
      },
      "execution_count": 86,
      "outputs": [
        {
          "output_type": "stream",
          "name": "stdout",
          "text": [
            "Positive number\n"
          ]
        }
      ]
    },
    {
      "cell_type": "markdown",
      "source": [
        "### Example 5: Nested if condition\n"
      ],
      "metadata": {
        "id": "musYljN3XRsl"
      }
    },
    {
      "cell_type": "code",
      "source": [
        "x = 15\n",
        "if x > 10:\n",
        "    if x < 20:\n",
        "        print(\"x is between 10 and 20\")"
      ],
      "metadata": {
        "colab": {
          "base_uri": "https://localhost:8080/"
        },
        "id": "xfsk-U1TXG0s",
        "outputId": "2dc61161-e24f-45db-e561-551c29c9cd90"
      },
      "execution_count": 87,
      "outputs": [
        {
          "output_type": "stream",
          "name": "stdout",
          "text": [
            "x is between 10 and 20\n"
          ]
        }
      ]
    },
    {
      "cell_type": "markdown",
      "source": [
        "#### **if-else statement**\n",
        "Executes one block of code if the condition is `True`, otherwise executes another block."
      ],
      "metadata": {
        "id": "vOwZGKuwXWcc"
      }
    },
    {
      "cell_type": "code",
      "source": [
        "x = 3\n",
        "if x > 5:\n",
        "    print(\"x is greater than 5\")\n",
        "else:\n",
        "    print(\"x is not greater than 5\")"
      ],
      "metadata": {
        "colab": {
          "base_uri": "https://localhost:8080/"
        },
        "id": "5jlyqIFGXYxl",
        "outputId": "270f7405-01d5-429c-8593-a97fee14d464"
      },
      "execution_count": 88,
      "outputs": [
        {
          "output_type": "stream",
          "name": "stdout",
          "text": [
            "x is not greater than 5\n"
          ]
        }
      ]
    },
    {
      "cell_type": "markdown",
      "source": [
        "### Example 2: Odd-Even Check\n"
      ],
      "metadata": {
        "id": "_iYiK7OdXbRa"
      }
    },
    {
      "cell_type": "code",
      "source": [
        "num = 7\n",
        "if num % 2 == 0:\n",
        "    print(\"Even\")\n",
        "else:\n",
        "    print(\"Odd\")"
      ],
      "metadata": {
        "colab": {
          "base_uri": "https://localhost:8080/"
        },
        "id": "c1aPVPi4XYuE",
        "outputId": "3d4e794c-5348-4ea1-fc3a-14b1a5d8a2fa"
      },
      "execution_count": 89,
      "outputs": [
        {
          "output_type": "stream",
          "name": "stdout",
          "text": [
            "Odd\n"
          ]
        }
      ]
    },
    {
      "cell_type": "markdown",
      "source": [
        "#### Example 3: String comparison\n"
      ],
      "metadata": {
        "id": "Orocs2JwXgQ6"
      }
    },
    {
      "cell_type": "code",
      "source": [
        "string = \"hello\"\n",
        "if string == \"Hello\":\n",
        "    print(\"Match\")\n",
        "else:\n",
        "    print(\"No match\")"
      ],
      "metadata": {
        "colab": {
          "base_uri": "https://localhost:8080/"
        },
        "id": "l6JwwHCvXkNg",
        "outputId": "d0d7e0f8-64e7-438a-efe3-ea76917a17ee"
      },
      "execution_count": 91,
      "outputs": [
        {
          "output_type": "stream",
          "name": "stdout",
          "text": [
            "No match\n"
          ]
        }
      ]
    },
    {
      "cell_type": "markdown",
      "source": [
        "#### **if-elif-else statement**\n",
        "\n",
        "Used when multiple conditions need to be checked."
      ],
      "metadata": {
        "id": "3tKq_MjVXm0R"
      }
    },
    {
      "cell_type": "code",
      "source": [
        "x = 7\n",
        "if x > 10:\n",
        "    print(\"x is greater than 10\")\n",
        "elif x > 5:\n",
        "    print(\"x is greater than 5 but less than or equal to 10\")  # Output: x is greater than 5 but less than or equal to 10\n",
        "else:\n",
        "    print(\"x is 5 or less\")"
      ],
      "metadata": {
        "colab": {
          "base_uri": "https://localhost:8080/"
        },
        "id": "vJbCvcbTXkJe",
        "outputId": "08fdf071-e181-4a51-992b-495e26867733"
      },
      "execution_count": 92,
      "outputs": [
        {
          "output_type": "stream",
          "name": "stdout",
          "text": [
            "x is greater than 5 but less than or equal to 10\n"
          ]
        }
      ]
    },
    {
      "cell_type": "markdown",
      "source": [
        "\n",
        "### Example 2: Grading System\n"
      ],
      "metadata": {
        "id": "p0gQkLhSXtip"
      }
    },
    {
      "cell_type": "code",
      "source": [
        "score = 85\n",
        "if score >= 90:\n",
        "    print(\"Grade: A\")\n",
        "elif score >= 80:\n",
        "    print(\"Grade: B\")\n",
        "elif score >= 70:\n",
        "    print(\"Grade: C\")\n",
        "else:\n",
        "    print(\"Fail\")"
      ],
      "metadata": {
        "colab": {
          "base_uri": "https://localhost:8080/"
        },
        "id": "D41ymJ7kXwH7",
        "outputId": "ebcb27d5-5dac-4375-882b-ac37502a7bca"
      },
      "execution_count": 93,
      "outputs": [
        {
          "output_type": "stream",
          "name": "stdout",
          "text": [
            "Grade: B\n"
          ]
        }
      ]
    },
    {
      "cell_type": "markdown",
      "source": [
        "\n",
        "### 2. Iterative Statements (Loops)\n",
        "\n",
        "Loops are used to repeat a block of code multiple times.\n",
        "\n",
        "\n",
        "#### **for loop**\n",
        "Used to iterate over a sequence (list, tuple, string, etc.)."
      ],
      "metadata": {
        "id": "uY0MwFr4XyqJ"
      }
    },
    {
      "cell_type": "code",
      "source": [
        "\n",
        "for i in range(5):  # Loops from 0 to 4\n",
        "    print(i)"
      ],
      "metadata": {
        "colab": {
          "base_uri": "https://localhost:8080/"
        },
        "id": "LN_XNKOqXwDs",
        "outputId": "e7ad7a7e-ca4f-4afc-e69e-7edbcb91399d"
      },
      "execution_count": 94,
      "outputs": [
        {
          "output_type": "stream",
          "name": "stdout",
          "text": [
            "0\n",
            "1\n",
            "2\n",
            "3\n",
            "4\n"
          ]
        }
      ]
    },
    {
      "cell_type": "markdown",
      "source": [
        "### Example 2: Iterating over a string"
      ],
      "metadata": {
        "id": "171VHH72X6k1"
      }
    },
    {
      "cell_type": "code",
      "source": [
        "for char in \"Python\":\n",
        "    print(char)"
      ],
      "metadata": {
        "colab": {
          "base_uri": "https://localhost:8080/"
        },
        "id": "IPo_ot0LX9CA",
        "outputId": "41009960-a28d-4c79-e380-dc5902c0964b"
      },
      "execution_count": 95,
      "outputs": [
        {
          "output_type": "stream",
          "name": "stdout",
          "text": [
            "P\n",
            "y\n",
            "t\n",
            "h\n",
            "o\n",
            "n\n"
          ]
        }
      ]
    },
    {
      "cell_type": "markdown",
      "source": [
        "### Example 3: Iterating over a list\n"
      ],
      "metadata": {
        "id": "g45Dltv3X_df"
      }
    },
    {
      "cell_type": "code",
      "source": [
        "numbers = [10, 20, 30]\n",
        "for num in numbers:\n",
        "    print(num)"
      ],
      "metadata": {
        "colab": {
          "base_uri": "https://localhost:8080/"
        },
        "id": "Ld9L_3x5X_LA",
        "outputId": "1e6b4c1f-02f0-414b-d000-1700f2c07d18"
      },
      "execution_count": 96,
      "outputs": [
        {
          "output_type": "stream",
          "name": "stdout",
          "text": [
            "10\n",
            "20\n",
            "30\n"
          ]
        }
      ]
    },
    {
      "cell_type": "markdown",
      "source": [
        "#### **while loop**\n",
        "Repeats as long as a condition remains `True`."
      ],
      "metadata": {
        "id": "pDBU3F76YDl0"
      }
    },
    {
      "cell_type": "code",
      "source": [
        "x = 0\n",
        "while x < 5:\n",
        "    print(x)\n",
        "    x += 1  # Increment x\n",
        "# Output: 0 1 2 3 4"
      ],
      "metadata": {
        "colab": {
          "base_uri": "https://localhost:8080/"
        },
        "id": "093zkS44X_HA",
        "outputId": "cec20d31-929a-40bd-8814-cff5b0d85b0f"
      },
      "execution_count": 97,
      "outputs": [
        {
          "output_type": "stream",
          "name": "stdout",
          "text": [
            "0\n",
            "1\n",
            "2\n",
            "3\n",
            "4\n"
          ]
        }
      ]
    },
    {
      "cell_type": "markdown",
      "source": [
        "### Example 2: Countdown\n"
      ],
      "metadata": {
        "id": "krtjE1x-YI-B"
      }
    },
    {
      "cell_type": "code",
      "source": [
        "num = 5\n",
        "while num > 0:\n",
        "    print(num)\n",
        "    num -= 1"
      ],
      "metadata": {
        "colab": {
          "base_uri": "https://localhost:8080/"
        },
        "id": "80aBRbhZYK77",
        "outputId": "01079b93-7d07-40ab-875f-0e8f18958b14"
      },
      "execution_count": 98,
      "outputs": [
        {
          "output_type": "stream",
          "name": "stdout",
          "text": [
            "5\n",
            "4\n",
            "3\n",
            "2\n",
            "1\n"
          ]
        }
      ]
    },
    {
      "cell_type": "markdown",
      "source": [
        "### 3. Transfer Statements\n",
        "Transfer statements control the flow of execution within loops.\n",
        "\n",
        "#### **break statement**\n",
        "Exits the loop immediately when encountered."
      ],
      "metadata": {
        "id": "WqJ8ZswSYRbx"
      }
    },
    {
      "cell_type": "code",
      "source": [
        "for i in range(10):\n",
        "    if i == 5:\n",
        "        break  # Loop stops at 5\n",
        "    print(i)"
      ],
      "metadata": {
        "colab": {
          "base_uri": "https://localhost:8080/"
        },
        "id": "u6gMl3dmYO4W",
        "outputId": "d25006b6-45b5-4641-9aa2-46204fbed01c"
      },
      "execution_count": 99,
      "outputs": [
        {
          "output_type": "stream",
          "name": "stdout",
          "text": [
            "0\n",
            "1\n",
            "2\n",
            "3\n",
            "4\n"
          ]
        }
      ]
    },
    {
      "cell_type": "markdown",
      "source": [
        "#### **continue statement**\n",
        "Skips the current iteration and moves to the next.\n"
      ],
      "metadata": {
        "id": "Ce9OfSqwYWfX"
      }
    },
    {
      "cell_type": "code",
      "source": [
        "for i in range(5):\n",
        "    if i == 2:\n",
        "        continue  # Skips printing 2\n",
        "    print(i)"
      ],
      "metadata": {
        "colab": {
          "base_uri": "https://localhost:8080/"
        },
        "id": "4Bvr2SdKYK38",
        "outputId": "20a75dd3-c1fe-4d28-876e-3469d874f6f7"
      },
      "execution_count": 100,
      "outputs": [
        {
          "output_type": "stream",
          "name": "stdout",
          "text": [
            "0\n",
            "1\n",
            "3\n",
            "4\n"
          ]
        }
      ]
    },
    {
      "cell_type": "markdown",
      "source": [
        "#### **pass statement**\n",
        "A placeholder that does nothing but maintains code structure.\n",
        "\n"
      ],
      "metadata": {
        "id": "yslfz9KqYbWg"
      }
    },
    {
      "cell_type": "code",
      "source": [
        "for i in range(5):\n",
        "    if i == 2:\n",
        "        pass  # Placeholder for future implementation\n",
        "    print(i)"
      ],
      "metadata": {
        "colab": {
          "base_uri": "https://localhost:8080/"
        },
        "id": "nQKd8VtTYdFU",
        "outputId": "d6e63e8d-3adc-4c80-e326-0b508deb6b32"
      },
      "execution_count": 101,
      "outputs": [
        {
          "output_type": "stream",
          "name": "stdout",
          "text": [
            "0\n",
            "1\n",
            "2\n",
            "3\n",
            "4\n"
          ]
        }
      ]
    }
  ]
}